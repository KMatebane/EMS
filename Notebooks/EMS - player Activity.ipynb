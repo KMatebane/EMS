{
 "cells": [
  {
   "cell_type": "markdown",
   "id": "d4a09091",
   "metadata": {},
   "source": [
    "<h1 align=\"center\"><b>player Activity</b></h1>"
   ]
  },
  {
   "cell_type": "markdown",
   "id": "e72a1748",
   "metadata": {},
   "source": [
    "<h5>\n",
    "    <b> Packages </b>\n",
    "</h5> "
   ]
  },
  {
   "cell_type": "code",
   "execution_count": 1,
   "id": "59c0feae",
   "metadata": {},
   "outputs": [],
   "source": [
    "# Package used to connect to MySQL Databases\n",
    "import mysql.connector\n",
    "\n",
    "# XML Creation\n",
    "import xml.etree.ElementTree as ET\n",
    "import os\n",
    "\n",
    "# Data Manipulation Packages\n",
    "import pandas as pd\n",
    "import numpy as np\n",
    "import hashlib\n",
    "from datetime import datetime\n",
    "\n",
    "# Package To Ignore Warnings\n",
    "import warnings\n",
    "warnings.filterwarnings(\"ignore\")"
   ]
  },
  {
   "cell_type": "markdown",
   "id": "25552f26",
   "metadata": {},
   "source": [
    "<h5>\n",
    "    <b> Import Data From MySQL</b>\n",
    "</h5> "
   ]
  },
  {
   "cell_type": "code",
   "execution_count": 9,
   "id": "89035d8c",
   "metadata": {},
   "outputs": [],
   "source": [
    "# Code To Connect MySQL\n",
    "file = open('/Users/katlegomatebane/Documents/Connect/Connect.txt', 'r')\n",
    "text = file.readlines()\n",
    "\n",
    "cobi_betika = mysql.connector.connect(host=text[0].strip()\n",
    "                                      ,database=text[7].strip()\n",
    "                                      ,user=text[5].strip()\n",
    "                                      ,password=text[6].strip()\n",
    "                                      ,port=text[4].strip())\n",
    "\n",
    "# Connect to MySQL database\n",
    "try:\n",
    "    with cobi_betika.cursor() as cursor:\n",
    "        df = pd.read_sql(\"SELECT x.profile_id \\\n",
    "                                ,(x.opening_depostit_amt - x.opening_withdrawal_amt) AS openingBalance\\\n",
    "                                ,(x.closing_depostit_amt - x.closing_withdrawal_amt) AS closingBalance\\\n",
    "                                ,x.depostit_amt\\\n",
    "                                ,x.withdrawal_amt\\\n",
    "                                ,x.summary_date\\\n",
    "                                ,x.registration_date\\\n",
    "                                ,x.payment_method\\\n",
    "\\\n",
    "                            FROM (SELECT a.profile_id \\\n",
    "                                        ,SUM(CASE WHEN DATE(a.summary_date) <= DATE(CURDATE()- INTERVAL 2 DAY) THEN a.deposit_amt END)      AS opening_depostit_amt\\\n",
    "                                        ,SUM(CASE WHEN DATE(a.summary_date) <= DATE(CURDATE()- INTERVAL 2 DAY) THEN a.withdrawal_amt END)   AS opening_withdrawal_amt\\\n",
    "                                        ,SUM(CASE WHEN DATE(a.summary_date) <= DATE(CURDATE()- INTERVAL 1 DAY) THEN a.deposit_amt END)      AS closing_depostit_amt\\\n",
    "                                        ,SUM(CASE WHEN DATE(a.summary_date) <= DATE(CURDATE()- INTERVAL 1 DAY) THEN a.withdrawal_amt END)   AS closing_withdrawal_amt\\\n",
    "                                        ,SUM(CASE WHEN DATE(a.summary_date) =  DATE(CURDATE()- INTERVAL 1 DAY) THEN a.deposit_amt END)      AS depostit_amt\\\n",
    "                                        ,SUM(CASE WHEN DATE(a.summary_date) =  DATE(CURDATE()- INTERVAL 1 DAY) THEN a.withdrawal_amt END)   AS withdrawal_amt\\\n",
    "                                        ,MAX(CASE WHEN DATE(a.summary_date) =  DATE(CURDATE()- INTERVAL 1 DAY) THEN a.summary_date END)     AS summary_date\\\n",
    "                                        ,b.registration_date\\\n",
    "                                        ,a.payment_method\\\n",
    "                                FROM betika_bi_gh.f_cashier_gh AS a \\\n",
    "\\\n",
    "                                LEFT JOIN betika_bi_gh.dim_first_last_gh AS b\\\n",
    "                                ON a.profile_id = b.profile_id\\\n",
    "\\\n",
    "                                WHERE a.profile_id IN (1341048)\\\n",
    "\\\n",
    "                                GROUP BY profile_id\\\n",
    "                                        ,b.registration_date\\\n",
    "                                        ,a.payment_method\\\n",
    "                                ) AS x; \"\n",
    "                         ,cobi_betika)\n",
    "        \n",
    "finally:\n",
    "    cobi_betika.close()"
   ]
  },
  {
   "cell_type": "markdown",
   "id": "4d26f3e0",
   "metadata": {},
   "source": [
    "<h5>\n",
    "    <b> Create File Variables </b>\n",
    "</h5> "
   ]
  },
  {
   "cell_type": "code",
   "execution_count": 3,
   "id": "f3fb5bfd",
   "metadata": {},
   "outputs": [],
   "source": [
    "report_path = '/Users/katlegomatebane/Documents/UG - EMS Integration/Reports/player Activity/'\n",
    "name        = '?xml version=\"1.0\" encoding=\"UTF-8\" standalone=\"yes\"?'\n",
    "date        = df['summary_date'].min().strftime('%Y%m%d')\n",
    "counter     = 1\n",
    "title       = 'RRI_playerActivity' "
   ]
  },
  {
   "cell_type": "markdown",
   "id": "cc4c549c",
   "metadata": {},
   "source": [
    "<h5>\n",
    "    <b> Create Serialisation </b>\n",
    "</h5> "
   ]
  },
  {
   "cell_type": "code",
   "execution_count": 4,
   "id": "123db81f",
   "metadata": {},
   "outputs": [],
   "source": [
    "for file in os.listdir(report_path):\n",
    "        if \"xml\" in file:\n",
    "            counter += 1\n",
    "\n",
    "serial = f\"{counter:03}\""
   ]
  },
  {
   "cell_type": "code",
   "execution_count": 10,
   "id": "6efa7e6b",
   "metadata": {},
   "outputs": [
    {
     "data": {
      "text/html": [
       "<div>\n",
       "<style scoped>\n",
       "    .dataframe tbody tr th:only-of-type {\n",
       "        vertical-align: middle;\n",
       "    }\n",
       "\n",
       "    .dataframe tbody tr th {\n",
       "        vertical-align: top;\n",
       "    }\n",
       "\n",
       "    .dataframe thead th {\n",
       "        text-align: right;\n",
       "    }\n",
       "</style>\n",
       "<table border=\"1\" class=\"dataframe\">\n",
       "  <thead>\n",
       "    <tr style=\"text-align: right;\">\n",
       "      <th></th>\n",
       "      <th>profile_id</th>\n",
       "      <th>openingBalance</th>\n",
       "      <th>closingBalance</th>\n",
       "      <th>depostit_amt</th>\n",
       "      <th>withdrawal_amt</th>\n",
       "      <th>summary_date</th>\n",
       "      <th>registration_date</th>\n",
       "      <th>payment_method</th>\n",
       "    </tr>\n",
       "  </thead>\n",
       "  <tbody>\n",
       "    <tr>\n",
       "      <th>0</th>\n",
       "      <td>1341048</td>\n",
       "      <td>777.52</td>\n",
       "      <td>732.52</td>\n",
       "      <td>150.0</td>\n",
       "      <td>195.0</td>\n",
       "      <td>2024-06-16</td>\n",
       "      <td>2021-01-24</td>\n",
       "      <td>MTN</td>\n",
       "    </tr>\n",
       "  </tbody>\n",
       "</table>\n",
       "</div>"
      ],
      "text/plain": [
       "   profile_id  openingBalance  closingBalance  depostit_amt  withdrawal_amt  \\\n",
       "0     1341048          777.52          732.52         150.0           195.0   \n",
       "\n",
       "  summary_date registration_date payment_method  \n",
       "0   2024-06-16        2021-01-24            MTN  "
      ]
     },
     "execution_count": 10,
     "metadata": {},
     "output_type": "execute_result"
    }
   ],
   "source": [
    "df"
   ]
  },
  {
   "cell_type": "markdown",
   "id": "d5e183c5",
   "metadata": {},
   "source": [
    "<h5>\n",
    "    <b> Create Data Variables </b>\n",
    "</h5> "
   ]
  },
  {
   "cell_type": "code",
   "execution_count": 33,
   "id": "e099aa59",
   "metadata": {},
   "outputs": [],
   "source": [
    "df['opener']            = '<?xml version=\"1.0\" encoding=\"UTF-8\" standalone=\"yes\"?>'\n",
    "df['xmlns:rri']         = 'urn:GSA:RRI:1.0:GSA:rri'\n",
    "df['xmlns:xsi']         = 'http://www.w3.org/2001/XMLSchema-instance'\n",
    "df['version']           = '1.0'\n",
    "df['partionid']         = '1'\n",
    "df['SeqNumber']         = '1'\n",
    "df['OperatorId']        = 'Betika'\n",
    "df['periodType']        = 'RRI_day'\n",
    "df['reportType']        = 'RRI_playerActivity'\n",
    "df['dateTime']          = datetime.now().strftime('%Y-%m-%dT%M:%S.%T')\n",
    "\n",
    "\n",
    "# PlayerActivity\n",
    "df['brandID']           = 'Betika'\n",
    "\n",
    "# PlayerActivityDetail\n",
    "df['ActivityDescOW']    = 'Player Account Opened'\n",
    "df['ActivityDescDP']    = 'RRI_deposit'\n",
    "df['ActivityDescWD']    = 'RRI_withdrawal'\n",
    "df['fundsType']         = 'RRI_realMoney'\n",
    "df['currencyCode']      = 'UGX'\n",
    "df['transClass']        = 'RRI_online'"
   ]
  },
  {
   "cell_type": "markdown",
   "id": "322a47d0",
   "metadata": {},
   "source": [
    "<h5>\n",
    "    <b> Prepare Data To Be Hashed By Game ID </b>\n",
    "</h5> "
   ]
  },
  {
   "cell_type": "code",
   "execution_count": 34,
   "id": "4bde1566",
   "metadata": {},
   "outputs": [],
   "source": [
    "# Create New dataframe that will be used to group data by game id\n",
    "df_Hash = df\n",
    "\n",
    "# Place all the row's data into one column\n",
    "df_Hash['data'] = str(df_Hash).encode()\n",
    "\n",
    "# convert data column to string \n",
    "df_Hash['data'] = df_Hash['data'].astype(str)\n",
    "\n",
    "# \n",
    "df_Hash['data'] = df_Hash.groupby(['summary_date'])['data'].transform(lambda x: ', '.join(x))\n",
    "\n",
    "# \n",
    "df_Hash = df_Hash.groupby('summary_date').first().reset_index()\n",
    "\n",
    "# Keep only the data field & game id\n",
    "df_Hash = df_Hash[['summary_date','data']]"
   ]
  },
  {
   "cell_type": "code",
   "execution_count": 35,
   "id": "99f11a86",
   "metadata": {},
   "outputs": [],
   "source": [
    "def hash_data(data):\n",
    "    \n",
    "    # Encode the transaction data as a string\n",
    "    data_str = str(data).encode()\n",
    "\n",
    "    # Create a hash variable and use it to generate a hash of the transaction data\n",
    "    hashing = hashlib.sha256()\n",
    "    hashing.update(data_str)\n",
    "    data_hash = hashing.hexdigest()\n",
    "\n",
    "    return data_hash"
   ]
  },
  {
   "cell_type": "code",
   "execution_count": 36,
   "id": "64ea18b9",
   "metadata": {},
   "outputs": [],
   "source": [
    "df_Hash['reportId'] = df_Hash['data'].apply(hash_data)"
   ]
  },
  {
   "cell_type": "markdown",
   "id": "8da4b686",
   "metadata": {},
   "source": [
    "<h5>\n",
    "    <b> Map Column Names </b>\n",
    "</h5> "
   ]
  },
  {
   "cell_type": "code",
   "execution_count": 37,
   "id": "25f7ec01",
   "metadata": {},
   "outputs": [],
   "source": [
    "opener                  = df['opener'].astype(str).tolist()\n",
    "rri                     = df['xmlns:rri'].astype(str).tolist()\n",
    "xsi                     = df['xmlns:xsi'].astype(str).tolist()\n",
    "report_id               = df_Hash['reportId'].astype(str).tolist()\n",
    "Operator_Id             = df['OperatorId'].astype(str).tolist()\n",
    "period_Start            = df['summary_date'].apply(lambda x: x.strftime('%Y-%m-%d')).tolist()\n",
    "version                 = df['version'].astype(str).tolist()\n",
    "partion_id              = df['partionid'].astype(str).tolist()\n",
    "seq_Number              = df['SeqNumber'].astype(str).tolist()\n",
    "period_Type             = df['periodType'].astype(str).tolist()\n",
    "date_Time               = df['dateTime'].astype(str).tolist()\n",
    "report_Type             = df['reportType'].astype(str).tolist()\n",
    "brand_Id                = df['brandID'].astype(str).tolist()\n",
    "\n",
    "# Player\n",
    "player_id               = df['profile_id'].astype(str).tolist()\n",
    "Activity_Date_Time      = df['summary_date'].apply(lambda x: x.strftime('%Y-%m-%d')).tolist()\n",
    "\n",
    "\n",
    "\n",
    "# playerActivityDetail\n",
    "player_Activity_Desc    = df['payment_method'].astype(str).tolist()\n",
    "player_Activity_Desc_WD = df['ActivityDescWD'].astype(str).tolist()\n",
    "currency_Code           = df['currencyCode'].astype(str).tolist()\n",
    "\n",
    "# gameMovement\n",
    "trans_Class             = df['transClass'].astype(str).tolist()\n",
    "funds_Type              = df['fundsType'].astype(str).tolist()\n",
    "\n",
    "trans_Type_dep          = df['ActivityDescDP'].astype(str).tolist()\n",
    "trans_Type_with         = df['ActivityDescWD'].astype(str).tolist()\n",
    "\n",
    "\n",
    "trans_Amt_obl          = df['openingBalance'].astype(str).tolist()\n",
    "trans_Amt_cbl          = df['closingBalance'].astype(str).tolist()\n",
    "trans_Amt_dep          = df['withdrawal_amt'].astype(str).tolist()\n",
    "trans_Amt_wth          = df['withdrawal_amt'].astype(str).tolist()"
   ]
  },
  {
   "cell_type": "markdown",
   "id": "9d5da963",
   "metadata": {},
   "source": [
    "<h5>\n",
    "    <b> Function To Make XML Readable </b>\n",
    "</h5> "
   ]
  },
  {
   "cell_type": "code",
   "execution_count": 38,
   "id": "ac30f6ed",
   "metadata": {},
   "outputs": [],
   "source": [
    "def prettify(element, indent='  '):\n",
    "    queue = [(0, element)]\n",
    "    while queue:\n",
    "        level, element = queue.pop(0)\n",
    "        children = [(level + 1, child) for child in list(element)]\n",
    "        if children:\n",
    "            element.text = '\\n' + indent * (level+1)\n",
    "        if queue: \n",
    "            element.tail = '\\n' + indent * queue[0][0]\n",
    "        else:\n",
    "            element.tail = '\\n' + indent * (level-1) \n",
    "        queue[0:0] = children"
   ]
  },
  {
   "cell_type": "markdown",
   "id": "d9ded908",
   "metadata": {},
   "source": [
    "<h5>\n",
    "    <b> Create XML File </b>\n",
    "</h5> "
   ]
  },
  {
   "cell_type": "code",
   "execution_count": 41,
   "id": "d6e42b96",
   "metadata": {},
   "outputs": [],
   "source": [
    "xml_doc = ET.Element(name)\n",
    "gaming_Report = ET.SubElement(xml_doc, 'rri:gamingReport'\n",
    "                            ,xmlnsrri=rri[0]\n",
    "                            ,xmlnsxsi=xsi[0]\n",
    "                            ,version=version[0]\n",
    "                            ,operatiorId=Operator_Id[0]\n",
    "                            ,partionId=partion_id[0]\n",
    "                            ,periodType=period_Type[0]\n",
    "                            ,periodStart=period_Start[0]\n",
    "                            ,reportType=report_Type[0]\n",
    "                            ,reportid=report_id[0]\n",
    "                            ,seqNumber=seq_Number[0]\n",
    "                            ,dateTime=date_Time[0])\n",
    "playerActivity = ET.SubElement(gaming_Report, 'playerActivity' \n",
    "                              ,brandId=brand_Id[0])\n",
    "ET.SubElement(playerActivity,'player'\n",
    "              ,playerId=player_id[0])\n",
    "ET.SubElement(playerActivity,'playerActivityDetail'\n",
    "             ,playerActivity=trans_Type_dep[0]\n",
    "             ,playerActivityDesc=player_Activity_Desc[0]\n",
    "             ,playerActivityDateTime=Activity_Date_Time[0])\n",
    "startingBalanceList = ET.SubElement(playerActivity, 'startingBalanceList')\n",
    "ET.SubElement(playerActivity, 'summaryBalance' \n",
    "              ,fundsType=funds_Type[0]\n",
    "              ,balanceAmt=trans_Amt_obl[0]\n",
    "              ,currencyCode=currency_Code[0])\n",
    "playerMovementList = ET.SubElement(playerActivity, 'playerMovementList')\n",
    "ET.SubElement(playerMovementList,'playerMovement'\n",
    "             ,transClass=trans_Class[0]\n",
    "             ,transType=trans_Type_dep[0]\n",
    "             ,fundsType=funds_Type[0]\n",
    "             ,transAmt=trans_Amt_dep[0]\n",
    "             ,currencyCode=currency_Code[0])\n",
    "endingBalanceList = ET.SubElement(playerActivity, 'endingBalanceList')\n",
    "ET.SubElement(endingBalanceList,'summaryBalance'\n",
    "             ,fundsType=funds_Type[0]\n",
    "             ,balanceAmt=trans_Amt_cbl[0]\n",
    "             ,currencyCode=currency_Code[0])\n",
    "playerMovementList = ET.SubElement(playerActivity, 'playerMovementList')\n",
    "ET.SubElement(playerActivity, 'summaryBalance' \n",
    "              ,fundsType=funds_Type[0]\n",
    "              ,balanceAmt=trans_Amt_obl[0]\n",
    "              ,currencyCode=currency_Code[0])\n",
    "ET.SubElement(playerActivity,'playerActivityDetail'\n",
    "             ,playerActivity=trans_Type_with[0]\n",
    "             ,playerActivityDesc=player_Activity_Desc[0]\n",
    "             ,playerActivityDateTime=Activity_Date_Time[0])\n",
    "             \n",
    "playerMovementList = ET.SubElement(playerActivity, 'playerMovementList')\n",
    "ET.SubElement(playerMovementList,'playerMovement'\n",
    "             ,transClass=trans_Class[0]\n",
    "             ,transType=trans_Type_with[0]\n",
    "             ,fundsType=funds_Type[0]\n",
    "             ,transAmt=trans_Amt_wth[0]\n",
    "             ,currencyCode=currency_Code[0])\n",
    "endingBalanceList = ET.SubElement(playerActivity, 'endingBalanceList')\n",
    "ET.SubElement(endingBalanceList,'summaryBalance'\n",
    "             ,fundsType=funds_Type[0]\n",
    "             ,balanceAmt=trans_Amt_cbl[0]\n",
    "             ,currencyCode=currency_Code[0])\n",
    "\n",
    "prettify(xml_doc)"
   ]
  },
  {
   "cell_type": "markdown",
   "id": "eb659571",
   "metadata": {},
   "source": [
    "<h5>\n",
    "    <b> Export XML File To Folder </b>\n",
    "</h5> "
   ]
  },
  {
   "cell_type": "code",
   "execution_count": 42,
   "id": "6acdd9d8",
   "metadata": {},
   "outputs": [],
   "source": [
    "tree = ET.ElementTree(xml_doc)\n",
    "tree.write(report_path+title+'_'+serial+'_'+date+'.xml',encoding=\"utf-8\")"
   ]
  },
  {
   "cell_type": "code",
   "execution_count": null,
   "id": "c94e10b9",
   "metadata": {},
   "outputs": [],
   "source": [
    "player = []"
   ]
  },
  {
   "cell_type": "code",
   "execution_count": null,
   "id": "d51d0c47",
   "metadata": {},
   "outputs": [],
   "source": [
    "for i in player:\n",
    "    df."
   ]
  }
 ],
 "metadata": {
  "kernelspec": {
   "display_name": "Python 3 (ipykernel)",
   "language": "python",
   "name": "python3"
  },
  "language_info": {
   "codemirror_mode": {
    "name": "ipython",
    "version": 3
   },
   "file_extension": ".py",
   "mimetype": "text/x-python",
   "name": "python",
   "nbconvert_exporter": "python",
   "pygments_lexer": "ipython3",
   "version": "3.1.-1"
  }
 },
 "nbformat": 4,
 "nbformat_minor": 5
}
