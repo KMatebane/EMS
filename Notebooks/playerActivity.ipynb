{
 "cells": [
  {
   "cell_type": "markdown",
   "id": "d4a09091",
   "metadata": {},
   "source": [
    "<h1 align=\"center\"><b>player Activity</b></h1>"
   ]
  },
  {
   "cell_type": "markdown",
   "id": "e72a1748",
   "metadata": {},
   "source": [
    "<h5>\n",
    "    <b> Packages </b>\n",
    "</h5> "
   ]
  },
  {
   "cell_type": "code",
   "execution_count": 1,
   "id": "59c0feae",
   "metadata": {},
   "outputs": [],
   "source": [
    "# Package used to connect to MySQL Databases\n",
    "import mysql.connector\n",
    "\n",
    "# XML Creation\n",
    "import xml.etree.ElementTree as ET\n",
    "from collections import defaultdict\n",
    "import os\n",
    "\n",
    "#Upload XML\n",
    "import requests\n",
    "from zipfile import ZipFile, ZIP_DEFLATED\n",
    "import pathlib\n",
    "\n",
    "# Data Manipulation Packages\n",
    "import pandas as pd\n",
    "import numpy as np\n",
    "import hashlib\n",
    "from datetime import datetime, timedelta\n",
    "\n",
    "# Package To Ignore Warnings\n",
    "import warnings\n",
    "warnings.filterwarnings(\"ignore\")"
   ]
  },
  {
   "cell_type": "markdown",
   "id": "549d2e76",
   "metadata": {},
   "source": [
    "<h5>\n",
    "    <b> Create File Variables </b>\n",
    "</h5> "
   ]
  },
  {
   "cell_type": "code",
   "execution_count": 2,
   "id": "fa6cdd9a",
   "metadata": {},
   "outputs": [],
   "source": [
    "Root = os.path.normpath(os.getcwd() + os.sep + os.pardir)\n",
    "\n",
    "file = open(Root + '/Connect/Connect.txt', 'r')\n",
    "text = file.readlines()"
   ]
  },
  {
   "cell_type": "code",
   "execution_count": 3,
   "id": "c4665032",
   "metadata": {},
   "outputs": [],
   "source": [
    "Month = (datetime.now() - timedelta(days=1)).strftime('%m') + '_' + (datetime.now() - timedelta(days=1)).strftime('%B') + '/'\n",
    "Year  = (datetime.now() - timedelta(days=1)).strftime('%Y') + '/'\n",
    "Day   = (datetime.now() - timedelta(days=1)).strftime('%Y_%m_%d')"
   ]
  },
  {
   "cell_type": "code",
   "execution_count": 4,
   "id": "70d83af2",
   "metadata": {},
   "outputs": [],
   "source": [
    "name        = '?xml version=\"1.0\" encoding=\"UTF-8\" standalone=\"yes\"?'\n",
    "date        = (datetime.now() - timedelta(days=1)).strftime('%Y%m%d')\n",
    "title       = 'RRI_playerActivity' \n",
    "report_path = Root +'/'+ 'Reports/playerActivity/'+Year + Month +date"
   ]
  },
  {
   "cell_type": "code",
   "execution_count": 5,
   "id": "28360fc1",
   "metadata": {},
   "outputs": [],
   "source": [
    "base_filename = \"playerActivity\"\n",
    "max_size_mb = 64"
   ]
  },
  {
   "cell_type": "code",
   "execution_count": 6,
   "id": "464800f2",
   "metadata": {},
   "outputs": [],
   "source": [
    "zip_name = report_path+'/'+base_filename+'_'+date\n",
    "zip_path = report_path+'/Zip/'+base_filename+'_'+date+'.zip'\n",
    "zip_dir = report_path+'/Zip'\n",
    "file_path = report_path+'/'+base_filename+'_001_'+date+'.xml'"
   ]
  },
  {
   "cell_type": "code",
   "execution_count": 7,
   "id": "cffcff5e",
   "metadata": {},
   "outputs": [],
   "source": [
    "if not os.path.exists(report_path):\n",
    "        os.makedirs(report_path)\n",
    "\n",
    "if not os.path.exists(zip_dir):\n",
    "        os.makedirs(zip_dir)"
   ]
  },
  {
   "cell_type": "markdown",
   "id": "25552f26",
   "metadata": {},
   "source": [
    "<h5>\n",
    "    <b> Import Data From MySQL</b>\n",
    "</h5> "
   ]
  },
  {
   "cell_type": "code",
   "execution_count": 8,
   "id": "89035d8c",
   "metadata": {},
   "outputs": [],
   "source": [
    "# Code To Connect MySQL\n",
    "cobi_betika = mysql.connector.connect(host=text[0].strip()\n",
    "                                      ,database=text[7].strip()\n",
    "                                      ,user=text[5].strip()\n",
    "                                      ,password=text[6].strip()\n",
    "                                      ,port=text[4].strip())\n",
    "\n",
    "# Connect to MySQL database\n",
    "try:\n",
    "    with cobi_betika.cursor() as cursor:\n",
    "        df = pd.read_sql(\"SELECT x.profile_id \\\n",
    "                                ,(x.opening_depostit_amt - x.opening_withdrawal_amt) AS openingBalance\\\n",
    "                                ,(x.closing_depostit_amt - x.closing_withdrawal_amt) AS closingBalance\\\n",
    "                                ,x.depostit_amt\\\n",
    "                                ,x.withdrawal_amt\\\n",
    "                                ,x.summary_date\\\n",
    "                                ,x.registration_date\\\n",
    "                                ,x.payment_method\\\n",
    "\\\n",
    "                            FROM (SELECT a.profile_id \\\n",
    "                                        ,SUM(CASE WHEN DATE(a.summary_date) <= DATE(CURDATE()- INTERVAL 2 DAY) THEN a.deposit_amt END)      AS opening_depostit_amt\\\n",
    "                                        ,SUM(CASE WHEN DATE(a.summary_date) <= DATE(CURDATE()- INTERVAL 2 DAY) THEN a.withdrawal_amt END)   AS opening_withdrawal_amt\\\n",
    "                                        ,SUM(CASE WHEN DATE(a.summary_date) <= DATE(CURDATE()- INTERVAL 1 DAY) THEN a.deposit_amt END)      AS closing_depostit_amt\\\n",
    "                                        ,SUM(CASE WHEN DATE(a.summary_date) <= DATE(CURDATE()- INTERVAL 1 DAY) THEN a.withdrawal_amt END)   AS closing_withdrawal_amt\\\n",
    "                                        ,SUM(CASE WHEN DATE(a.summary_date) =  DATE(CURDATE()- INTERVAL 1 DAY) THEN a.deposit_amt END)      AS depostit_amt\\\n",
    "                                        ,SUM(CASE WHEN DATE(a.summary_date) =  DATE(CURDATE()- INTERVAL 1 DAY) THEN a.withdrawal_amt END)   AS withdrawal_amt\\\n",
    "                                        ,MAX(CASE WHEN DATE(a.summary_date) =  DATE(CURDATE()- INTERVAL 1 DAY) THEN a.summary_date END)     AS summary_date\\\n",
    "                                        ,b.registration_date\\\n",
    "                                        ,a.payment_method\\\n",
    "                                FROM betika_bi_mw.f_cashier_mw AS a \\\n",
    "\\\n",
    "                                LEFT JOIN betika_bi_mw.dim_first_last_mw AS b\\\n",
    "                                ON a.profile_id = b.profile_id\\\n",
    "\\\n",
    "                                GROUP BY profile_id\\\n",
    "                                        ,b.registration_date\\\n",
    "                                        ,a.payment_method\\\n",
    "                                ) AS x;\"\n",
    "                         ,cobi_betika)\n",
    "        \n",
    "finally:\n",
    "    cobi_betika.close()"
   ]
  },
  {
   "cell_type": "code",
   "execution_count": 9,
   "id": "44136973",
   "metadata": {},
   "outputs": [],
   "source": [
    "df.update(df[['openingBalance','closingBalance','depostit_amt','withdrawal_amt']].fillna(0))\n",
    "df['summary_date'].fillna(df['registration_date'], inplace=True)"
   ]
  },
  {
   "cell_type": "markdown",
   "id": "d5e183c5",
   "metadata": {},
   "source": [
    "<h5>\n",
    "    <b> Create Data Variables </b>\n",
    "</h5> "
   ]
  },
  {
   "cell_type": "code",
   "execution_count": 10,
   "id": "e099aa59",
   "metadata": {},
   "outputs": [],
   "source": [
    "df['opener']            = '<?xml version=\"1.0\" encoding=\"UTF-8\" standalone=\"yes\"?>'\n",
    "df['xmlns:rri']         = 'urn:GSA:RRI:1.0:GSA:rri'\n",
    "df['xmlns:xsi']         = 'http://www.w3.org/2001/XMLSchema-instance'\n",
    "df['version']           = '1.0'\n",
    "df['partionid']         = '1'\n",
    "df['SeqNumber']         = '1'\n",
    "df['OperatorId']        = 'Betika'\n",
    "df['periodType']        = 'RRI_day'\n",
    "df['reportType']        = 'RRI_playerActivity'\n",
    "df['dateTime']          = datetime.now().strftime('%Y-%m-%dT%M:%S.%T')\n",
    "df['period_Start']      = date\n",
    "\n",
    "\n",
    "# PlayerActivity\n",
    "df['brandID']           = 'Betika'\n",
    "\n",
    "# PlayerActivityDetail\n",
    "df['ActivityDescOW']    = 'Player Account Opened'\n",
    "df['ActivityDescDP']    = 'RRI_deposit'\n",
    "df['ActivityDescWD']    = 'RRI_withdrawal'\n",
    "df['fundsType']         = 'RRI_realMoney'\n",
    "df['currencyCode']      = 'UGX'\n",
    "df['transClass']        = 'RRI_online'"
   ]
  },
  {
   "cell_type": "markdown",
   "id": "322a47d0",
   "metadata": {},
   "source": [
    "<h5>\n",
    "    <b> Prepare Data To Be Hashed By Game ID </b>\n",
    "</h5> "
   ]
  },
  {
   "cell_type": "code",
   "execution_count": 11,
   "id": "4bde1566",
   "metadata": {},
   "outputs": [],
   "source": [
    "# Create New dataframe that will be used to group data by game id\n",
    "df_Hash = df\n",
    "\n",
    "# Place all the row's data into one column\n",
    "df_Hash['data'] = str(df_Hash).encode()\n",
    "\n",
    "# convert data column to string \n",
    "df_Hash['data'] = df_Hash['data'].astype(str)\n",
    "\n",
    "# \n",
    "df_Hash['data'] = df_Hash.groupby(['summary_date'])['data'].transform(lambda x: ', '.join(x))\n",
    "\n",
    "# \n",
    "df_Hash = df_Hash.groupby('summary_date').first().reset_index()\n",
    "\n",
    "# Keep only the data field & game id\n",
    "df_Hash = df_Hash[['summary_date','data']]"
   ]
  },
  {
   "cell_type": "code",
   "execution_count": 12,
   "id": "99f11a86",
   "metadata": {},
   "outputs": [],
   "source": [
    "def hash_data(data):\n",
    "    \n",
    "    # Encode the transaction data as a string\n",
    "    data_str = str(data).encode()\n",
    "\n",
    "    # Create a hash variable and use it to generate a hash of the transaction data\n",
    "    hashing = hashlib.sha256()\n",
    "    hashing.update(data_str)\n",
    "    data_hash = hashing.hexdigest()\n",
    "\n",
    "    return data_hash"
   ]
  },
  {
   "cell_type": "code",
   "execution_count": 13,
   "id": "64ea18b9",
   "metadata": {},
   "outputs": [],
   "source": [
    "df_Hash['reportId'] = df_Hash['data'].apply(hash_data)"
   ]
  },
  {
   "cell_type": "markdown",
   "id": "8da4b686",
   "metadata": {},
   "source": [
    "<h5>\n",
    "    <b> Map Column Names </b>\n",
    "</h5> "
   ]
  },
  {
   "cell_type": "code",
   "execution_count": 14,
   "id": "25f7ec01",
   "metadata": {},
   "outputs": [],
   "source": [
    "opener                  = df['opener'].astype(str).tolist()\n",
    "rri                     = df['xmlns:rri'].astype(str).tolist()\n",
    "xsi                     = df['xmlns:xsi'].astype(str).tolist()\n",
    "report_id               = df_Hash['reportId'].astype(str).tolist()\n",
    "Operator_Id             = df['OperatorId'].astype(str).tolist()\n",
    "period_Start            = df['period_Start'].astype(str).tolist()\n",
    "version                 = df['version'].astype(str).tolist()\n",
    "partion_id              = df['partionid'].astype(str).tolist()\n",
    "seq_Number              = df['SeqNumber'].astype(str).tolist()\n",
    "period_Type             = df['periodType'].astype(str).tolist()\n",
    "date_Time               = df['dateTime'].astype(str).tolist()\n",
    "report_Type             = df['reportType'].astype(str).tolist()\n",
    "brand_Id                = df['brandID'].astype(str).tolist()\n",
    "\n",
    "# Player\n",
    "player_id               = df['profile_id'].astype(str).tolist()\n",
    "Activity_Date_Time      = df['period_Start'].astype(str).tolist()\n",
    "\n",
    "# playerActivityDetail\n",
    "player_Activity_Desc    = df['payment_method'].astype(str).tolist()\n",
    "player_Activity_Desc_WD = df['ActivityDescWD'].astype(str).tolist()\n",
    "currency_Code           = df['currencyCode'].astype(str).tolist()\n",
    "\n",
    "# gameMovement\n",
    "trans_Class             = df['transClass'].astype(str).tolist()\n",
    "funds_Type              = df['fundsType'].astype(str).tolist()\n",
    "\n",
    "trans_Type_dep          = df['ActivityDescDP'].astype(str).tolist()\n",
    "trans_Type_with         = df['ActivityDescWD'].astype(str).tolist()\n",
    "\n",
    "trans_Amt_obl          = df['openingBalance'].astype(str).tolist()\n",
    "trans_Amt_cbl          = df['closingBalance'].astype(str).tolist()\n",
    "trans_Amt_dep          = df['withdrawal_amt'].astype(str).tolist()\n",
    "trans_Amt_wth          = df['withdrawal_amt'].astype(str).tolist()"
   ]
  },
  {
   "cell_type": "markdown",
   "id": "d9ded908",
   "metadata": {},
   "source": [
    "<h5>\n",
    "    <b> Create XML File </b>\n",
    "</h5> "
   ]
  },
  {
   "cell_type": "code",
   "execution_count": 15,
   "id": "923df48d",
   "metadata": {},
   "outputs": [],
   "source": [
    "def create_xml_file(filename, serial):\n",
    "    # Create the root element\n",
    "    root = ET.Element('?xml version=\"1.0\" encoding=\"UTF-8\" standalone=\"yes\"?')\n",
    "    \n",
    "    gaming_Report = ET.SubElement(root, 'rri:gamingReport',\n",
    "                                  xmlnsrri=rri[0],\n",
    "                                  xmlnsxsi=xsi[0],\n",
    "                                  version=version[0],\n",
    "                                  operatiorId=Operator_Id[0],\n",
    "                                  partionId=partion_id[0],\n",
    "                                  periodType=period_Type[0],\n",
    "                                  periodStart=period_Start[0],\n",
    "                                  reportType=report_Type[0],\n",
    "                                  reportid=report_id[0],\n",
    "                                  seqNumber=serial,\n",
    "                                  dateTime=date_Time[0])\n",
    "    \n",
    "    return root\n",
    "\n",
    "def save_xml_to_file(root, filename):\n",
    "    # Create an ElementTree object from the root element\n",
    "    tree = ET.ElementTree(root)\n",
    "    # Write the tree to an XML file\n",
    "    tree.write(filename, encoding='utf-8', xml_declaration=False)\n",
    "\n",
    "def add_element(root, tag, text):\n",
    "    \n",
    "    # Create a new element and add it to the root\n",
    "    \n",
    "    gaming_Report = ET.SubElement(root, 'rri:gamingReport'\n",
    "                                ,xmlnsrri=rri[0]\n",
    "                                ,xmlnsxsi=xsi[0]\n",
    "                                ,version=version[0]\n",
    "                                ,operatiorId=Operator_Id[0]\n",
    "                                ,partionId=partion_id[0]\n",
    "                                ,periodType=period_Type[0]\n",
    "                                ,periodStart=period_Start[0]\n",
    "                                ,reportType=report_Type[0]\n",
    "                                ,reportid=report_id[0]\n",
    "                                ,seqNumber=seq_Number[0]\n",
    "                                ,dateTime=date_Time[0])\n",
    "    playerActivity = ET.SubElement(gaming_Report, 'playerActivity' \n",
    "                                ,brandId=brand_Id[0])\n",
    "\n",
    "    for i in range(len(player_id)):\n",
    "        \n",
    "        ET.SubElement(playerActivity, 'player', playerId=player_id[i])\n",
    "        \n",
    "        ET.SubElement(playerActivity, 'playerActivityDetail',\n",
    "                    playerActivity=trans_Type_dep[i],\n",
    "                    playerActivityDesc=player_Activity_Desc[i],\n",
    "                    playerActivityDateTime=Activity_Date_Time[i])\n",
    "        \n",
    "        startingBalanceList = ET.SubElement(playerActivity, 'startingBalanceList')\n",
    "        \n",
    "        ET.SubElement(playerActivity, 'summaryBalance',\n",
    "                    fundsType=funds_Type[i],\n",
    "                    balanceAmt=trans_Amt_obl[i],\n",
    "                    currencyCode=currency_Code[i])\n",
    "        \n",
    "        playerMovementList = ET.SubElement(playerActivity, 'playerMovementList')\n",
    "        \n",
    "        ET.SubElement(playerMovementList, 'playerMovement',\n",
    "                    transClass=trans_Class[i],\n",
    "                    transType=trans_Type_dep[i],\n",
    "                    fundsType=funds_Type[i],\n",
    "                    transAmt=trans_Amt_dep[i],\n",
    "                    currencyCode=currency_Code[i])\n",
    "        \n",
    "        endingBalanceList = ET.SubElement(playerActivity, 'endingBalanceList')\n",
    "        \n",
    "        ET.SubElement(endingBalanceList, 'summaryBalance',\n",
    "                    fundsType=funds_Type[i],\n",
    "                    balanceAmt=trans_Amt_cbl[i],\n",
    "                    currencyCode=currency_Code[i])\n",
    "        \n",
    "        playerMovementList = ET.SubElement(playerActivity, 'playerMovementList')\n",
    "        \n",
    "        ET.SubElement(playerActivity, 'summaryBalance',\n",
    "                    fundsType=funds_Type[i],\n",
    "                    balanceAmt=trans_Amt_obl[i],\n",
    "                    currencyCode=currency_Code[i])\n",
    "        \n",
    "        ET.SubElement(playerActivity, 'playerActivityDetail',\n",
    "                    playerActivity=trans_Type_with[i],\n",
    "                    playerActivityDesc=player_Activity_Desc[i],\n",
    "                    playerActivityDateTime=Activity_Date_Time[i])\n",
    "        \n",
    "        playerMovementList = ET.SubElement(playerActivity, 'playerMovementList')\n",
    "        \n",
    "        ET.SubElement(playerMovementList, 'playerMovement',\n",
    "                    transClass=trans_Class[i],\n",
    "                    transType=trans_Type_with[i],\n",
    "                    fundsType=funds_Type[i],\n",
    "                    transAmt=trans_Amt_wth[i],\n",
    "                    currencyCode=currency_Code[i])\n",
    "        \n",
    "        endingBalanceList = ET.SubElement(playerActivity, 'endingBalanceList')\n",
    "        \n",
    "        ET.SubElement(endingBalanceList, 'summaryBalance',\n",
    "                    fundsType=funds_Type[i],\n",
    "                    balanceAmt=trans_Amt_cbl[i],\n",
    "                    currencyCode=currency_Code[i])\n",
    "\n",
    "def manage_xml_files(base_filename, max_size_mb):\n",
    "    current_file_index = 1\n",
    "    current_file_size = 0\n",
    "    serial = f\"{current_file_index:03}\"\n",
    "    current_root = create_xml_file(f\"{report_path}/{base_filename}_{serial}_{date}.xml\", serial)\n",
    "    \n",
    "    while True:\n",
    "        # Add your elements to the current_root as needed\n",
    "        add_element(current_root, \"item\", \"Some text\")\n",
    "        \n",
    "        # Save to a temporary file to check the size\n",
    "        temp_filename = f\"{report_path}/temp_{base_filename}.xml\"\n",
    "        save_xml_to_file(current_root, temp_filename)\n",
    "        \n",
    "        current_file_size = os.path.getsize(temp_filename) / (1024 * 1024)  # Size in MB\n",
    "        \n",
    "        if current_file_size > max_size_mb:\n",
    "            # Save the current file and start a new one\n",
    "            final_filename = f\"{report_path}/{base_filename}_{serial}_{date}.xml\"\n",
    "            save_xml_to_file(current_root, final_filename)\n",
    "            os.remove(temp_filename)  # Clean up temporary file\n",
    "            \n",
    "            # Increment file index and reset root and size\n",
    "            current_file_index += 1\n",
    "            serial = f\"{current_file_index:03}\"\n",
    "            current_root = create_xml_file(f\"{report_path}/{base_filename}_{serial}_{date}.xml\", serial)\n",
    "        else:\n",
    "            # Move the temp file to the final name\n",
    "            final_filename = f\"{report_path}/{base_filename}_{serial}_{date}.xml\"\n",
    "            os.rename(temp_filename, final_filename)\n",
    "            break\n",
    "\n",
    "def update_seq_number(xml_file, new_seq_number):\n",
    "    tree = ET.parse(xml_file)\n",
    "    root = tree.getroot()\n",
    "    namespaces = {'rri': 'http://example.com/rri', 'xsi': 'http://www.w3.org/2001/XMLSchema-instance'}\n",
    "    gaming_report = root.find('rri:gamingReport', namespaces)\n",
    "    if gaming_report is not None:\n",
    "        gaming_report.set('seqNumber', new_seq_number)\n",
    "        tree.write(xml_file, encoding='utf-8', xml_declaration=True)\n",
    "    else:\n",
    "        print(\"Element not found\")\n",
    "\n",
    "manage_xml_files(base_filename, max_size_mb)\n"
   ]
  },
  {
   "cell_type": "code",
   "execution_count": 16,
   "id": "eccba83d",
   "metadata": {},
   "outputs": [],
   "source": [
    "def zip_files_in_folder(report_path, zip_path):\n",
    "    \n",
    "    folder = pathlib.Path(report_path)\n",
    "    \n",
    "    with ZipFile(zip_path, 'w', ZIP_DEFLATED) as zipf:\n",
    "        for file in folder.iterdir():\n",
    "            if file.is_file() and file.suffix == '.xml':  # Only zip regular files\n",
    "                zipf.write(file, file.name)\n",
    "\n",
    "zip_files_in_folder(zip_dir, zip_path)"
   ]
  },
  {
   "cell_type": "markdown",
   "id": "eb659571",
   "metadata": {},
   "source": [
    "<h5>\n",
    "    <b> Export XML File To Folder </b>\n",
    "</h5> "
   ]
  },
  {
   "cell_type": "code",
   "execution_count": 17,
   "id": "66244706",
   "metadata": {},
   "outputs": [],
   "source": [
    "package_name = base_filename+'_'+date+'.zip'\n",
    "file_size = os.path.getsize(zip_path)\n",
    "chunk_size = os.path.getsize(file_path)\n",
    "offset = 0"
   ]
  },
  {
   "cell_type": "code",
   "execution_count": 18,
   "id": "ed24376f",
   "metadata": {},
   "outputs": [
    {
     "name": "stdout",
     "output_type": "stream",
     "text": [
      "{\"message\":\"File uploaded successfully\"}\n",
      "\n"
     ]
    }
   ],
   "source": [
    "reqUrl = \"http://localhost:14077/ems/trigger/\"\n",
    "\n",
    "post_files = {\n",
    "  \"file\": open(zip_path, \"rb\"),\n",
    "}\n",
    "\n",
    "payload = {'packageName': package_name,\n",
    "           'size': file_size,\n",
    "           'chunkSize': chunk_size,\n",
    "           'offSet': offset}\n",
    "\n",
    "response = requests.request(\"POST\", reqUrl, data=payload, files=post_files)\n",
    "\n",
    "print(response.text)"
   ]
  }
 ],
 "metadata": {
  "kernelspec": {
   "display_name": "Python 3 (ipykernel)",
   "language": "python",
   "name": "python3"
  },
  "language_info": {
   "codemirror_mode": {
    "name": "ipython",
    "version": 3
   },
   "file_extension": ".py",
   "mimetype": "text/x-python",
   "name": "python",
   "nbconvert_exporter": "python",
   "pygments_lexer": "ipython3",
   "version": "3.11.7"
  }
 },
 "nbformat": 4,
 "nbformat_minor": 5
}
