{
 "cells": [
  {
   "cell_type": "markdown",
   "id": "d4a09091",
   "metadata": {},
   "source": [
    "<h1 align=\"center\"><b>UG SP EMSC</b></h1>"
   ]
  },
  {
   "cell_type": "markdown",
   "id": "e72a1748",
   "metadata": {},
   "source": [
    "<h5>\n",
    "    <b> Packages </b>\n",
    "</h5> "
   ]
  },
  {
   "cell_type": "code",
   "execution_count": 96,
   "id": "59c0feae",
   "metadata": {},
   "outputs": [],
   "source": [
    "# Package used to connect to MySQL Databases\n",
    "import mysql.connector\n",
    "\n",
    "# XML Creation\n",
    "import xml.etree.ElementTree as ET\n",
    "import os\n",
    "\n",
    "#Upload XML\n",
    "import requests\n",
    "import shutil\n",
    "\n",
    "# Data Manipulation Packages\n",
    "import pandas as pd\n",
    "import numpy as np\n",
    "import hashlib\n",
    "from datetime import datetime\n",
    "\n",
    "# Package To Ignore Warnings\n",
    "import warnings\n",
    "warnings.filterwarnings(\"ignore\")"
   ]
  },
  {
   "cell_type": "code",
   "execution_count": 97,
   "id": "1383dd03",
   "metadata": {},
   "outputs": [],
   "source": [
    "Root = os.path.normpath(os.getcwd() + os.sep + os.pardir)\n",
    "\n",
    "file = open(Root + '/Connect/Connect.txt', 'r')\n",
    "text = file.readlines()"
   ]
  },
  {
   "cell_type": "markdown",
   "id": "25552f26",
   "metadata": {},
   "source": [
    "<h5>\n",
    "    <b> Import Data From MySQL</b>\n",
    "</h5> "
   ]
  },
  {
   "cell_type": "code",
   "execution_count": 98,
   "id": "5f0cb89e",
   "metadata": {},
   "outputs": [],
   "source": [
    "# Code To Connect MySQL\n",
    "cobi_betika = mysql.connector.connect(host=text[0].strip()\n",
    "                                      ,database=text[7].strip()\n",
    "                                      ,user=text[5].strip()\n",
    "                                      ,password=text[6].strip()\n",
    "                                      ,port=text[4].strip())\n",
    "\n",
    "# Connect to MySQL database\n",
    "try:\n",
    "    with cobi_betika.cursor() as cursor:\n",
    "        df = pd.read_sql(\"SELECT summary_date\\\n",
    "                                ,COUNT(DISTINCT profile_id) AS playerCnt\\\n",
    "                                ,COUNT(DISTINCT (CASE WHEN free_bet_qty > 0 THEN profile_id END)) as freePlayerCnt\\\n",
    "                                ,game_name AS gameName\\\n",
    "                                ,SUM(total_bet_qty) AS gamesPlayedCnt\\\n",
    "                                ,SUM(total_bet_amt) AS stakeAmt\\\n",
    "                                ,SUM(total_payout) AS baseWinAmt\\\n",
    "                                ,SUM(withheld_tax_amt) AS taxPlayerIncomeAmt\\\n",
    "                                ,SUM(cancelled_bet_amt) AS refundAmt\\\n",
    "                                ,SUM(GGR) AS revenueAmt\\\n",
    "                            FROM betika_bi_ken.f_spribe_kpi\\\n",
    "                            WHERE DATE(summary_date) = DATE(CURDATE()- INTERVAL 1 DAY)\\\n",
    "                            GROUP BY summary_date\\\n",
    "                                    ,game_name;\"\n",
    "                         ,cobi_betika)\n",
    "        \n",
    "finally:\n",
    "    cobi_betika.close()"
   ]
  },
  {
   "cell_type": "markdown",
   "id": "4d26f3e0",
   "metadata": {},
   "source": [
    "<h5>\n",
    "    <b> Create File Variables </b>\n",
    "</h5> "
   ]
  },
  {
   "cell_type": "code",
   "execution_count": 99,
   "id": "0298c990",
   "metadata": {},
   "outputs": [],
   "source": [
    "Month = df['summary_date'][0].strftime('%m') + '_' + df['summary_date'][0].strftime('%B') + '/'\n",
    "Year  = df['summary_date'][0].strftime('%Y') + '/'\n",
    "Day   = df['summary_date'][0].strftime('%Y_%m_%d')"
   ]
  },
  {
   "cell_type": "code",
   "execution_count": 100,
   "id": "f3fb5bfd",
   "metadata": {},
   "outputs": [],
   "source": [
    "name        = '?xml version=\"1.0\" encoding=\"UTF-8\" standalone=\"yes\"?'\n",
    "date        = df['summary_date'].min().strftime('%Y%m%d')\n",
    "counter     = 1\n",
    "title       = 'RRI_gameSummary' \n",
    "report_path = Root +'/'+ 'Reports/Online_Casino_Games/'+Year + Month +date"
   ]
  },
  {
   "cell_type": "markdown",
   "id": "cc4c549c",
   "metadata": {},
   "source": [
    "<h5>\n",
    "    <b> Create Serialisation </b>\n",
    "</h5> "
   ]
  },
  {
   "cell_type": "code",
   "execution_count": 101,
   "id": "993cf402",
   "metadata": {},
   "outputs": [],
   "source": [
    "if not os.path.exists(report_path):\n",
    "        os.makedirs(report_path)"
   ]
  },
  {
   "cell_type": "code",
   "execution_count": 102,
   "id": "123db81f",
   "metadata": {},
   "outputs": [],
   "source": [
    "for file in os.listdir(report_path):\n",
    "        if \"xml\" in file:\n",
    "            counter += 1\n",
    "\n",
    "serial = f\"{counter:03}\""
   ]
  },
  {
   "cell_type": "markdown",
   "id": "d5e183c5",
   "metadata": {},
   "source": [
    "<h5>\n",
    "    <b> Create Data Variables </b>\n",
    "</h5> "
   ]
  },
  {
   "cell_type": "code",
   "execution_count": 103,
   "id": "b1c556e0",
   "metadata": {},
   "outputs": [],
   "source": [
    "df['opener']            = '<?xml version=\"1.0\" encoding=\"UTF-8\" standalone=\"yes\"?>'\n",
    "df['xmlns:rri']         = 'urn:GSA:RRI:1.0:GSA:rri'\n",
    "df['xmlns:xsi']         = 'http://www.w3.org/2001/XMLSchema-instance'\n",
    "df['version']           = '1.0'\n",
    "df['partionid']         = '1'\n",
    "df['SeqNumber']         = '1'\n",
    "df['OperatorId']        = 'Betika'\n",
    "df['periodType']        = 'RRI_day'\n",
    "df['reportType']        = 'RRI_gameSummary'\n",
    "df['dateTime']          = datetime.now().strftime('%Y-%m-%dT%M:%S.%T')\n",
    "df['brandID']           = 'Betika'\n",
    "df['game_id']           = np.nan\n",
    "df['gameType']          = 'RRI_other'\n",
    "df['gameCategory']      = 'RRI_casinoGame'\n",
    "df['gameVariant']       = 'RRI_none'\n",
    "df['jackpotContribAmt'] = np.nan\n",
    "df['jackpotWinAmt']     = np.nan\n",
    "df['freeStakeAmt']      = np.nan\n",
    "df['currencyCode']      = 'KES'\n",
    "\n",
    "df['transType_Wager']   = 'RRI_wager'\n",
    "df['transType_Win']     = 'RRI_baseGameWin'\n",
    "df['transClass']        = 'RRI_online'\n",
    "df['fundsType']         = 'RRI_realMoney'"
   ]
  },
  {
   "cell_type": "markdown",
   "id": "322a47d0",
   "metadata": {},
   "source": [
    "<h5>\n",
    "    <b> Prepare Data To Be Hashed By Game ID </b>\n",
    "</h5> "
   ]
  },
  {
   "cell_type": "code",
   "execution_count": 104,
   "id": "4bde1566",
   "metadata": {},
   "outputs": [],
   "source": [
    "# Create New dataframe that will be used to group data by game id\n",
    "df_Hash = df\n",
    "\n",
    "# Place all the row's data into one column\n",
    "df_Hash['data'] = str(df_Hash).encode()\n",
    "\n",
    "# convert data column to string \n",
    "df_Hash['data'] = df_Hash['data'].astype(str)\n",
    "\n",
    "# \n",
    "df_Hash['data'] = df_Hash.groupby(['gameName'])['data'].transform(lambda x: ', '.join(x))\n",
    "\n",
    "# \n",
    "df_Hash = df_Hash.groupby('gameName').first().reset_index()\n",
    "\n",
    "# Keep only the data field & game id\n",
    "df_Hash = df_Hash[['gameName','data']]"
   ]
  },
  {
   "cell_type": "code",
   "execution_count": 105,
   "id": "99f11a86",
   "metadata": {},
   "outputs": [],
   "source": [
    "def hash_data(data):\n",
    "    \n",
    "    # Encode the transaction data as a string\n",
    "    data_str = str(data).encode()\n",
    "\n",
    "    # Create a hash variable and use it to generate a hash of the transaction data\n",
    "    hashing = hashlib.sha256()\n",
    "    hashing.update(data_str)\n",
    "    data_hash = hashing.hexdigest()\n",
    "\n",
    "    return data_hash"
   ]
  },
  {
   "cell_type": "code",
   "execution_count": 106,
   "id": "64ea18b9",
   "metadata": {},
   "outputs": [],
   "source": [
    "df_Hash['reportId'] = df_Hash['data'].apply(hash_data)"
   ]
  },
  {
   "cell_type": "markdown",
   "id": "8da4b686",
   "metadata": {},
   "source": [
    "<h5>\n",
    "    <b> Map Column Names </b>\n",
    "</h5> "
   ]
  },
  {
   "cell_type": "code",
   "execution_count": 107,
   "id": "25f7ec01",
   "metadata": {},
   "outputs": [],
   "source": [
    "opener                  = df['opener'].astype(str).tolist()\n",
    "rri                     = df['xmlns:rri'].astype(str).tolist()\n",
    "xsi                     = df['xmlns:xsi'].astype(str).tolist()\n",
    "report_id               = df_Hash['reportId'].astype(str).tolist()\n",
    "Operator_Id             = df['OperatorId'].astype(str).tolist()\n",
    "period_Start            = df['summary_date'].apply(lambda x: x.strftime('%Y-%m-%d')).tolist()\n",
    "version                 = df['version'].astype(str).tolist()\n",
    "partion_id              = df['partionid'].astype(str).tolist()\n",
    "seq_Number              = df['SeqNumber'].astype(str).tolist()\n",
    "period_Type             = df['periodType'].astype(str).tolist()\n",
    "date_Time               = df['dateTime'].astype(str).tolist()\n",
    "report_Type             = df['reportType'].astype(str).tolist()\n",
    "brand_Id                = df['brandID'].astype(str).tolist()\n",
    "game_Id                 = df['game_id'].astype(str).tolist()\n",
    "game_Name               = df['gameName'].astype(str).tolist()\n",
    "game_Category           = df['gameCategory'].astype(str).tolist()\n",
    "game_Type               = df['gameType'].astype(str).tolist()\n",
    "game_Variant            = df['gameVariant'].astype(str).tolist()\n",
    "stake_Amt               = df['stakeAmt'].astype(str).tolist()\n",
    "free_Stake_Amt          = df['freeStakeAmt'].astype(str).tolist()\n",
    "jackpot_Contrib_Amt     = df['jackpotContribAmt'].astype(str).tolist()\n",
    "jackpot_Win_Amt         = df['jackpotWinAmt'].astype(str).tolist()\n",
    "games_Played_Cnt        = df['gamesPlayedCnt'].astype(str).tolist()\n",
    "currency_Code           = df['currencyCode'].astype(str).tolist()\n",
    "player_Cnt              = df['playerCnt'].astype(str).tolist()\n",
    "free_Player_Cnt         = df['freePlayerCnt'].astype(str).tolist()\n",
    "refund_Amt              = df['refundAmt'].astype(str).tolist()\n",
    "wager_Amt               = df['stakeAmt'].astype(str).tolist()\n",
    "base_Win_Amt            = df['baseWinAmt'].astype(str).tolist()\n",
    "revenue_Amt             = df['revenueAmt'].astype(str).tolist()\n",
    "tax_Player_Income_Amt   = df['taxPlayerIncomeAmt'].astype(str).tolist()\n",
    "funds_Type              = df['fundsType'].astype(str).tolist()\n",
    "trans_Class             = df['transClass'].astype(str).tolist()\n",
    "trans_type_Wager        = df['transType_Wager'].astype(str).tolist()\n",
    "trans_type_Win          = df['transType_Win'].astype(str).tolist()\n",
    "funds_Type              = df['fundsType'].astype(str).tolist()\n",
    "trans_Amt_Wager         = df['stakeAmt'].astype(str).tolist()\n",
    "trans_Amt_Win           = df['baseWinAmt'].astype(str).tolist()"
   ]
  },
  {
   "cell_type": "markdown",
   "id": "9d5da963",
   "metadata": {},
   "source": [
    "<h5>\n",
    "    <b> Function To Make XML Readable </b>\n",
    "</h5> "
   ]
  },
  {
   "cell_type": "code",
   "execution_count": 108,
   "id": "ac30f6ed",
   "metadata": {},
   "outputs": [],
   "source": [
    "def prettify(element, indent='  '):\n",
    "    queue = [(0, element)]\n",
    "    while queue:\n",
    "        level, element = queue.pop(0)\n",
    "        children = [(level + 1, child) for child in list(element)]\n",
    "        if children:\n",
    "            element.text = '\\n' + indent * (level+1)\n",
    "        if queue: \n",
    "            element.tail = '\\n' + indent * queue[0][0]\n",
    "        else:\n",
    "            element.tail = '\\n' + indent * (level-1) \n",
    "        queue[0:0] = children"
   ]
  },
  {
   "cell_type": "markdown",
   "id": "d9ded908",
   "metadata": {},
   "source": [
    "<h5>\n",
    "    <b> Create XML File </b>\n",
    "</h5> "
   ]
  },
  {
   "cell_type": "code",
   "execution_count": 109,
   "id": "d6e42b96",
   "metadata": {},
   "outputs": [],
   "source": [
    "xml_doc = ET.Element(name)\n",
    "gaming_Report = ET.SubElement(xml_doc, 'rri:gamingReport'\n",
    "                            ,xmlnsrri=rri[0]\n",
    "                            ,xmlnsxsi=xsi[0]\n",
    "                            ,version=version[0]\n",
    "                            ,operatiorId=Operator_Id[0]\n",
    "                            ,partionId=partion_id[0]\n",
    "                            ,periodType=period_Type[0]\n",
    "                            ,periodStart=period_Start[0]\n",
    "                            ,reportType=report_Type[0]\n",
    "                            ,reportid=report_id[0]\n",
    "                            ,seqNumber=seq_Number[0]\n",
    "                            ,dateTime=date_Time[0])\n",
    "game_summary = ET.SubElement(gaming_Report, 'gameSummary' \n",
    "                             ,periodType=period_Type[0]\n",
    "                             ,periodStart=period_Start[0]\n",
    "                             ,brandId=brand_Id[0])\n",
    "ET.SubElement(game_summary,'game'\n",
    "              ,gameId=game_Id[0]\n",
    "              ,gameName=game_Name[0]\n",
    "              ,gameCategory=game_Category[0]\n",
    "              ,gameType=game_Type[0]\n",
    "              ,gameVariant=game_Variant[0])\n",
    "game_sd = ET.SubElement(game_summary, 'gameSummaryDetail')\n",
    "ET.SubElement(game_sd,'casinoGameSummary'\n",
    "             ,stakeAmt=stake_Amt[0]\n",
    "             ,freeStakeAmt=free_Stake_Amt[0]\n",
    "             ,refundAmt=refund_Amt[0]\n",
    "             ,baseWinAmt=base_Win_Amt[0]\n",
    "             ,jackpotContribAmt=jackpot_Contrib_Amt[0]\n",
    "             ,jackpotWinAmt=jackpot_Win_Amt[0]\n",
    "             ,gamesPlayedCnt=games_Played_Cnt[0]\n",
    "             ,currencyCode=currency_Code[0])\n",
    "game_ml = ET.SubElement(game_summary, 'gameMovementList')\n",
    "ET.SubElement(game_ml,'gameMovement'\n",
    "             ,transClass=trans_Class[0]\n",
    "             ,transType=trans_type_Wager[0]\n",
    "             ,fundsType=funds_Type[0]\n",
    "             ,transAmt=trans_Amt_Wager[0]\n",
    "             ,currencyCode=currency_Code[0])\n",
    "game_ml = ET.SubElement(game_summary, 'gameMovementList')\n",
    "ET.SubElement(game_ml,'gameMovement'\n",
    "             ,transClass=trans_Class[0]\n",
    "             ,transType=trans_type_Win[0]\n",
    "             ,fundsType=funds_Type[0]\n",
    "             ,transAmt=trans_Amt_Win[0]\n",
    "             ,currencyCode=currency_Code[0])\n",
    "\n",
    "prettify(xml_doc)"
   ]
  },
  {
   "cell_type": "markdown",
   "id": "eb659571",
   "metadata": {},
   "source": [
    "<h5>\n",
    "    <b> Export XML File To Folder </b>\n",
    "</h5> "
   ]
  },
  {
   "cell_type": "code",
   "execution_count": 110,
   "id": "6acdd9d8",
   "metadata": {},
   "outputs": [],
   "source": [
    "file_path = report_path+'/'+title+'_'+serial+'_'+date+'.xml'\n",
    "zip_name = report_path+'/'+title+'_'+serial+'_'+date\n",
    "zip_path = report_path+'/'+title+'_'+serial+'_'+date+'.zip'\n",
    "tree = ET.ElementTree(xml_doc)\n",
    "tree.write(file_path,encoding=\"utf-8\")"
   ]
  },
  {
   "cell_type": "code",
   "execution_count": 111,
   "id": "008c73f6",
   "metadata": {},
   "outputs": [
    {
     "data": {
      "text/plain": [
       "'/Users/katlegomatebane/Documents/Github/EMS/Reports/Online_Casino_Games/2024/06_June/20240622/RRI_gameSummary_002_20240622.zip'"
      ]
     },
     "execution_count": 111,
     "metadata": {},
     "output_type": "execute_result"
    }
   ],
   "source": [
    "shutil.make_archive(zip_name, 'zip', report_path)"
   ]
  },
  {
   "cell_type": "markdown",
   "id": "af9a633b",
   "metadata": {},
   "source": [
    "<h5>\n",
    "    <b> Send Data To API </b>\n",
    "</h5> "
   ]
  },
  {
   "cell_type": "code",
   "execution_count": 112,
   "id": "926ebba1",
   "metadata": {},
   "outputs": [],
   "source": [
    "package_name = title+'_'+serial+'_'+date+'.zip'\n",
    "file_size = os.path.getsize(file_path)\n",
    "chunk_size = os.path.getsize(zip_path)\n",
    "offset = 0"
   ]
  },
  {
   "cell_type": "code",
   "execution_count": 113,
   "id": "e6881a7a",
   "metadata": {},
   "outputs": [
    {
     "ename": "ConnectionError",
     "evalue": "HTTPConnectionPool(host='localhost', port=14077): Max retries exceeded with url: /ems/trigger/ (Caused by NewConnectionError('<urllib3.connection.HTTPConnection object at 0x29bdfb1d0>: Failed to establish a new connection: [Errno 61] Connection refused'))",
     "output_type": "error",
     "traceback": [
      "\u001b[0;31m---------------------------------------------------------------------------\u001b[0m",
      "\u001b[0;31mConnectionRefusedError\u001b[0m                    Traceback (most recent call last)",
      "File \u001b[0;32m/opt/anaconda3/lib/python3.11/site-packages/urllib3/connection.py:203\u001b[0m, in \u001b[0;36mHTTPConnection._new_conn\u001b[0;34m(self)\u001b[0m\n\u001b[1;32m    202\u001b[0m \u001b[38;5;28;01mtry\u001b[39;00m:\n\u001b[0;32m--> 203\u001b[0m     sock \u001b[38;5;241m=\u001b[39m connection\u001b[38;5;241m.\u001b[39mcreate_connection(\n\u001b[1;32m    204\u001b[0m         (\u001b[38;5;28mself\u001b[39m\u001b[38;5;241m.\u001b[39m_dns_host, \u001b[38;5;28mself\u001b[39m\u001b[38;5;241m.\u001b[39mport),\n\u001b[1;32m    205\u001b[0m         \u001b[38;5;28mself\u001b[39m\u001b[38;5;241m.\u001b[39mtimeout,\n\u001b[1;32m    206\u001b[0m         source_address\u001b[38;5;241m=\u001b[39m\u001b[38;5;28mself\u001b[39m\u001b[38;5;241m.\u001b[39msource_address,\n\u001b[1;32m    207\u001b[0m         socket_options\u001b[38;5;241m=\u001b[39m\u001b[38;5;28mself\u001b[39m\u001b[38;5;241m.\u001b[39msocket_options,\n\u001b[1;32m    208\u001b[0m     )\n\u001b[1;32m    209\u001b[0m \u001b[38;5;28;01mexcept\u001b[39;00m socket\u001b[38;5;241m.\u001b[39mgaierror \u001b[38;5;28;01mas\u001b[39;00m e:\n",
      "File \u001b[0;32m/opt/anaconda3/lib/python3.11/site-packages/urllib3/util/connection.py:85\u001b[0m, in \u001b[0;36mcreate_connection\u001b[0;34m(address, timeout, source_address, socket_options)\u001b[0m\n\u001b[1;32m     84\u001b[0m \u001b[38;5;28;01mtry\u001b[39;00m:\n\u001b[0;32m---> 85\u001b[0m     \u001b[38;5;28;01mraise\u001b[39;00m err\n\u001b[1;32m     86\u001b[0m \u001b[38;5;28;01mfinally\u001b[39;00m:\n\u001b[1;32m     87\u001b[0m     \u001b[38;5;66;03m# Break explicitly a reference cycle\u001b[39;00m\n",
      "File \u001b[0;32m/opt/anaconda3/lib/python3.11/site-packages/urllib3/util/connection.py:73\u001b[0m, in \u001b[0;36mcreate_connection\u001b[0;34m(address, timeout, source_address, socket_options)\u001b[0m\n\u001b[1;32m     72\u001b[0m     sock\u001b[38;5;241m.\u001b[39mbind(source_address)\n\u001b[0;32m---> 73\u001b[0m sock\u001b[38;5;241m.\u001b[39mconnect(sa)\n\u001b[1;32m     74\u001b[0m \u001b[38;5;66;03m# Break explicitly a reference cycle\u001b[39;00m\n",
      "\u001b[0;31mConnectionRefusedError\u001b[0m: [Errno 61] Connection refused",
      "\nThe above exception was the direct cause of the following exception:\n",
      "\u001b[0;31mNewConnectionError\u001b[0m                        Traceback (most recent call last)",
      "File \u001b[0;32m/opt/anaconda3/lib/python3.11/site-packages/urllib3/connectionpool.py:791\u001b[0m, in \u001b[0;36mHTTPConnectionPool.urlopen\u001b[0;34m(self, method, url, body, headers, retries, redirect, assert_same_host, timeout, pool_timeout, release_conn, chunked, body_pos, preload_content, decode_content, **response_kw)\u001b[0m\n\u001b[1;32m    790\u001b[0m \u001b[38;5;66;03m# Make the request on the HTTPConnection object\u001b[39;00m\n\u001b[0;32m--> 791\u001b[0m response \u001b[38;5;241m=\u001b[39m \u001b[38;5;28mself\u001b[39m\u001b[38;5;241m.\u001b[39m_make_request(\n\u001b[1;32m    792\u001b[0m     conn,\n\u001b[1;32m    793\u001b[0m     method,\n\u001b[1;32m    794\u001b[0m     url,\n\u001b[1;32m    795\u001b[0m     timeout\u001b[38;5;241m=\u001b[39mtimeout_obj,\n\u001b[1;32m    796\u001b[0m     body\u001b[38;5;241m=\u001b[39mbody,\n\u001b[1;32m    797\u001b[0m     headers\u001b[38;5;241m=\u001b[39mheaders,\n\u001b[1;32m    798\u001b[0m     chunked\u001b[38;5;241m=\u001b[39mchunked,\n\u001b[1;32m    799\u001b[0m     retries\u001b[38;5;241m=\u001b[39mretries,\n\u001b[1;32m    800\u001b[0m     response_conn\u001b[38;5;241m=\u001b[39mresponse_conn,\n\u001b[1;32m    801\u001b[0m     preload_content\u001b[38;5;241m=\u001b[39mpreload_content,\n\u001b[1;32m    802\u001b[0m     decode_content\u001b[38;5;241m=\u001b[39mdecode_content,\n\u001b[1;32m    803\u001b[0m     \u001b[38;5;241m*\u001b[39m\u001b[38;5;241m*\u001b[39mresponse_kw,\n\u001b[1;32m    804\u001b[0m )\n\u001b[1;32m    806\u001b[0m \u001b[38;5;66;03m# Everything went great!\u001b[39;00m\n",
      "File \u001b[0;32m/opt/anaconda3/lib/python3.11/site-packages/urllib3/connectionpool.py:497\u001b[0m, in \u001b[0;36mHTTPConnectionPool._make_request\u001b[0;34m(self, conn, method, url, body, headers, retries, timeout, chunked, response_conn, preload_content, decode_content, enforce_content_length)\u001b[0m\n\u001b[1;32m    496\u001b[0m \u001b[38;5;28;01mtry\u001b[39;00m:\n\u001b[0;32m--> 497\u001b[0m     conn\u001b[38;5;241m.\u001b[39mrequest(\n\u001b[1;32m    498\u001b[0m         method,\n\u001b[1;32m    499\u001b[0m         url,\n\u001b[1;32m    500\u001b[0m         body\u001b[38;5;241m=\u001b[39mbody,\n\u001b[1;32m    501\u001b[0m         headers\u001b[38;5;241m=\u001b[39mheaders,\n\u001b[1;32m    502\u001b[0m         chunked\u001b[38;5;241m=\u001b[39mchunked,\n\u001b[1;32m    503\u001b[0m         preload_content\u001b[38;5;241m=\u001b[39mpreload_content,\n\u001b[1;32m    504\u001b[0m         decode_content\u001b[38;5;241m=\u001b[39mdecode_content,\n\u001b[1;32m    505\u001b[0m         enforce_content_length\u001b[38;5;241m=\u001b[39menforce_content_length,\n\u001b[1;32m    506\u001b[0m     )\n\u001b[1;32m    508\u001b[0m \u001b[38;5;66;03m# We are swallowing BrokenPipeError (errno.EPIPE) since the server is\u001b[39;00m\n\u001b[1;32m    509\u001b[0m \u001b[38;5;66;03m# legitimately able to close the connection after sending a valid response.\u001b[39;00m\n\u001b[1;32m    510\u001b[0m \u001b[38;5;66;03m# With this behaviour, the received response is still readable.\u001b[39;00m\n",
      "File \u001b[0;32m/opt/anaconda3/lib/python3.11/site-packages/urllib3/connection.py:395\u001b[0m, in \u001b[0;36mHTTPConnection.request\u001b[0;34m(self, method, url, body, headers, chunked, preload_content, decode_content, enforce_content_length)\u001b[0m\n\u001b[1;32m    394\u001b[0m     \u001b[38;5;28mself\u001b[39m\u001b[38;5;241m.\u001b[39mputheader(header, value)\n\u001b[0;32m--> 395\u001b[0m \u001b[38;5;28mself\u001b[39m\u001b[38;5;241m.\u001b[39mendheaders()\n\u001b[1;32m    397\u001b[0m \u001b[38;5;66;03m# If we're given a body we start sending that in chunks.\u001b[39;00m\n",
      "File \u001b[0;32m/opt/anaconda3/lib/python3.11/http/client.py:1289\u001b[0m, in \u001b[0;36mHTTPConnection.endheaders\u001b[0;34m(self, message_body, encode_chunked)\u001b[0m\n\u001b[1;32m   1288\u001b[0m     \u001b[38;5;28;01mraise\u001b[39;00m CannotSendHeader()\n\u001b[0;32m-> 1289\u001b[0m \u001b[38;5;28mself\u001b[39m\u001b[38;5;241m.\u001b[39m_send_output(message_body, encode_chunked\u001b[38;5;241m=\u001b[39mencode_chunked)\n",
      "File \u001b[0;32m/opt/anaconda3/lib/python3.11/http/client.py:1048\u001b[0m, in \u001b[0;36mHTTPConnection._send_output\u001b[0;34m(self, message_body, encode_chunked)\u001b[0m\n\u001b[1;32m   1047\u001b[0m \u001b[38;5;28;01mdel\u001b[39;00m \u001b[38;5;28mself\u001b[39m\u001b[38;5;241m.\u001b[39m_buffer[:]\n\u001b[0;32m-> 1048\u001b[0m \u001b[38;5;28mself\u001b[39m\u001b[38;5;241m.\u001b[39msend(msg)\n\u001b[1;32m   1050\u001b[0m \u001b[38;5;28;01mif\u001b[39;00m message_body \u001b[38;5;129;01mis\u001b[39;00m \u001b[38;5;129;01mnot\u001b[39;00m \u001b[38;5;28;01mNone\u001b[39;00m:\n\u001b[1;32m   1051\u001b[0m \n\u001b[1;32m   1052\u001b[0m     \u001b[38;5;66;03m# create a consistent interface to message_body\u001b[39;00m\n",
      "File \u001b[0;32m/opt/anaconda3/lib/python3.11/http/client.py:986\u001b[0m, in \u001b[0;36mHTTPConnection.send\u001b[0;34m(self, data)\u001b[0m\n\u001b[1;32m    985\u001b[0m \u001b[38;5;28;01mif\u001b[39;00m \u001b[38;5;28mself\u001b[39m\u001b[38;5;241m.\u001b[39mauto_open:\n\u001b[0;32m--> 986\u001b[0m     \u001b[38;5;28mself\u001b[39m\u001b[38;5;241m.\u001b[39mconnect()\n\u001b[1;32m    987\u001b[0m \u001b[38;5;28;01melse\u001b[39;00m:\n",
      "File \u001b[0;32m/opt/anaconda3/lib/python3.11/site-packages/urllib3/connection.py:243\u001b[0m, in \u001b[0;36mHTTPConnection.connect\u001b[0;34m(self)\u001b[0m\n\u001b[1;32m    242\u001b[0m \u001b[38;5;28;01mdef\u001b[39;00m \u001b[38;5;21mconnect\u001b[39m(\u001b[38;5;28mself\u001b[39m) \u001b[38;5;241m-\u001b[39m\u001b[38;5;241m>\u001b[39m \u001b[38;5;28;01mNone\u001b[39;00m:\n\u001b[0;32m--> 243\u001b[0m     \u001b[38;5;28mself\u001b[39m\u001b[38;5;241m.\u001b[39msock \u001b[38;5;241m=\u001b[39m \u001b[38;5;28mself\u001b[39m\u001b[38;5;241m.\u001b[39m_new_conn()\n\u001b[1;32m    244\u001b[0m     \u001b[38;5;28;01mif\u001b[39;00m \u001b[38;5;28mself\u001b[39m\u001b[38;5;241m.\u001b[39m_tunnel_host:\n\u001b[1;32m    245\u001b[0m         \u001b[38;5;66;03m# If we're tunneling it means we're connected to our proxy.\u001b[39;00m\n",
      "File \u001b[0;32m/opt/anaconda3/lib/python3.11/site-packages/urllib3/connection.py:218\u001b[0m, in \u001b[0;36mHTTPConnection._new_conn\u001b[0;34m(self)\u001b[0m\n\u001b[1;32m    217\u001b[0m \u001b[38;5;28;01mexcept\u001b[39;00m \u001b[38;5;167;01mOSError\u001b[39;00m \u001b[38;5;28;01mas\u001b[39;00m e:\n\u001b[0;32m--> 218\u001b[0m     \u001b[38;5;28;01mraise\u001b[39;00m NewConnectionError(\n\u001b[1;32m    219\u001b[0m         \u001b[38;5;28mself\u001b[39m, \u001b[38;5;124mf\u001b[39m\u001b[38;5;124m\"\u001b[39m\u001b[38;5;124mFailed to establish a new connection: \u001b[39m\u001b[38;5;132;01m{\u001b[39;00me\u001b[38;5;132;01m}\u001b[39;00m\u001b[38;5;124m\"\u001b[39m\n\u001b[1;32m    220\u001b[0m     ) \u001b[38;5;28;01mfrom\u001b[39;00m \u001b[38;5;21;01me\u001b[39;00m\n\u001b[1;32m    222\u001b[0m \u001b[38;5;66;03m# Audit hooks are only available in Python 3.8+\u001b[39;00m\n",
      "\u001b[0;31mNewConnectionError\u001b[0m: <urllib3.connection.HTTPConnection object at 0x29bdfb1d0>: Failed to establish a new connection: [Errno 61] Connection refused",
      "\nThe above exception was the direct cause of the following exception:\n",
      "\u001b[0;31mMaxRetryError\u001b[0m                             Traceback (most recent call last)",
      "File \u001b[0;32m/opt/anaconda3/lib/python3.11/site-packages/requests/adapters.py:486\u001b[0m, in \u001b[0;36mHTTPAdapter.send\u001b[0;34m(self, request, stream, timeout, verify, cert, proxies)\u001b[0m\n\u001b[1;32m    485\u001b[0m \u001b[38;5;28;01mtry\u001b[39;00m:\n\u001b[0;32m--> 486\u001b[0m     resp \u001b[38;5;241m=\u001b[39m conn\u001b[38;5;241m.\u001b[39murlopen(\n\u001b[1;32m    487\u001b[0m         method\u001b[38;5;241m=\u001b[39mrequest\u001b[38;5;241m.\u001b[39mmethod,\n\u001b[1;32m    488\u001b[0m         url\u001b[38;5;241m=\u001b[39murl,\n\u001b[1;32m    489\u001b[0m         body\u001b[38;5;241m=\u001b[39mrequest\u001b[38;5;241m.\u001b[39mbody,\n\u001b[1;32m    490\u001b[0m         headers\u001b[38;5;241m=\u001b[39mrequest\u001b[38;5;241m.\u001b[39mheaders,\n\u001b[1;32m    491\u001b[0m         redirect\u001b[38;5;241m=\u001b[39m\u001b[38;5;28;01mFalse\u001b[39;00m,\n\u001b[1;32m    492\u001b[0m         assert_same_host\u001b[38;5;241m=\u001b[39m\u001b[38;5;28;01mFalse\u001b[39;00m,\n\u001b[1;32m    493\u001b[0m         preload_content\u001b[38;5;241m=\u001b[39m\u001b[38;5;28;01mFalse\u001b[39;00m,\n\u001b[1;32m    494\u001b[0m         decode_content\u001b[38;5;241m=\u001b[39m\u001b[38;5;28;01mFalse\u001b[39;00m,\n\u001b[1;32m    495\u001b[0m         retries\u001b[38;5;241m=\u001b[39m\u001b[38;5;28mself\u001b[39m\u001b[38;5;241m.\u001b[39mmax_retries,\n\u001b[1;32m    496\u001b[0m         timeout\u001b[38;5;241m=\u001b[39mtimeout,\n\u001b[1;32m    497\u001b[0m         chunked\u001b[38;5;241m=\u001b[39mchunked,\n\u001b[1;32m    498\u001b[0m     )\n\u001b[1;32m    500\u001b[0m \u001b[38;5;28;01mexcept\u001b[39;00m (ProtocolError, \u001b[38;5;167;01mOSError\u001b[39;00m) \u001b[38;5;28;01mas\u001b[39;00m err:\n",
      "File \u001b[0;32m/opt/anaconda3/lib/python3.11/site-packages/urllib3/connectionpool.py:845\u001b[0m, in \u001b[0;36mHTTPConnectionPool.urlopen\u001b[0;34m(self, method, url, body, headers, retries, redirect, assert_same_host, timeout, pool_timeout, release_conn, chunked, body_pos, preload_content, decode_content, **response_kw)\u001b[0m\n\u001b[1;32m    843\u001b[0m     new_e \u001b[38;5;241m=\u001b[39m ProtocolError(\u001b[38;5;124m\"\u001b[39m\u001b[38;5;124mConnection aborted.\u001b[39m\u001b[38;5;124m\"\u001b[39m, new_e)\n\u001b[0;32m--> 845\u001b[0m retries \u001b[38;5;241m=\u001b[39m retries\u001b[38;5;241m.\u001b[39mincrement(\n\u001b[1;32m    846\u001b[0m     method, url, error\u001b[38;5;241m=\u001b[39mnew_e, _pool\u001b[38;5;241m=\u001b[39m\u001b[38;5;28mself\u001b[39m, _stacktrace\u001b[38;5;241m=\u001b[39msys\u001b[38;5;241m.\u001b[39mexc_info()[\u001b[38;5;241m2\u001b[39m]\n\u001b[1;32m    847\u001b[0m )\n\u001b[1;32m    848\u001b[0m retries\u001b[38;5;241m.\u001b[39msleep()\n",
      "File \u001b[0;32m/opt/anaconda3/lib/python3.11/site-packages/urllib3/util/retry.py:515\u001b[0m, in \u001b[0;36mRetry.increment\u001b[0;34m(self, method, url, response, error, _pool, _stacktrace)\u001b[0m\n\u001b[1;32m    514\u001b[0m     reason \u001b[38;5;241m=\u001b[39m error \u001b[38;5;129;01mor\u001b[39;00m ResponseError(cause)\n\u001b[0;32m--> 515\u001b[0m     \u001b[38;5;28;01mraise\u001b[39;00m MaxRetryError(_pool, url, reason) \u001b[38;5;28;01mfrom\u001b[39;00m \u001b[38;5;21;01mreason\u001b[39;00m  \u001b[38;5;66;03m# type: ignore[arg-type]\u001b[39;00m\n\u001b[1;32m    517\u001b[0m log\u001b[38;5;241m.\u001b[39mdebug(\u001b[38;5;124m\"\u001b[39m\u001b[38;5;124mIncremented Retry for (url=\u001b[39m\u001b[38;5;124m'\u001b[39m\u001b[38;5;132;01m%s\u001b[39;00m\u001b[38;5;124m'\u001b[39m\u001b[38;5;124m): \u001b[39m\u001b[38;5;132;01m%r\u001b[39;00m\u001b[38;5;124m\"\u001b[39m, url, new_retry)\n",
      "\u001b[0;31mMaxRetryError\u001b[0m: HTTPConnectionPool(host='localhost', port=14077): Max retries exceeded with url: /ems/trigger/ (Caused by NewConnectionError('<urllib3.connection.HTTPConnection object at 0x29bdfb1d0>: Failed to establish a new connection: [Errno 61] Connection refused'))",
      "\nDuring handling of the above exception, another exception occurred:\n",
      "\u001b[0;31mConnectionError\u001b[0m                           Traceback (most recent call last)",
      "Cell \u001b[0;32mIn[113], line 17\u001b[0m\n\u001b[1;32m      8\u001b[0m headersList \u001b[38;5;241m=\u001b[39m {\u001b[38;5;124m\"\u001b[39m\u001b[38;5;124mAccept\u001b[39m\u001b[38;5;124m\"\u001b[39m: \u001b[38;5;124m\"\u001b[39m\u001b[38;5;124m*/*\u001b[39m\u001b[38;5;124m\"\u001b[39m,\n\u001b[1;32m      9\u001b[0m                \u001b[38;5;124m\"\u001b[39m\u001b[38;5;124mUser-Agent\u001b[39m\u001b[38;5;124m\"\u001b[39m: \u001b[38;5;124m\"\u001b[39m\u001b[38;5;124mThunder Client (https://www.thunderclient.com)\u001b[39m\u001b[38;5;124m\"\u001b[39m,\n\u001b[1;32m     10\u001b[0m                \u001b[38;5;124m\"\u001b[39m\u001b[38;5;124mContent-Type\u001b[39m\u001b[38;5;124m\"\u001b[39m: \u001b[38;5;124m\"\u001b[39m\u001b[38;5;124mmultipart/form-data; boundary=kljmyvW1ndjXaOEAg4vPm6RBUqO6MC5A\u001b[39m\u001b[38;5;124m\"\u001b[39m}\n\u001b[1;32m     12\u001b[0m payload \u001b[38;5;241m=\u001b[39m {\u001b[38;5;124m'\u001b[39m\u001b[38;5;124mpackageName\u001b[39m\u001b[38;5;124m'\u001b[39m: package_name,\n\u001b[1;32m     13\u001b[0m            \u001b[38;5;124m'\u001b[39m\u001b[38;5;124msize\u001b[39m\u001b[38;5;124m'\u001b[39m: file_size,\n\u001b[1;32m     14\u001b[0m            \u001b[38;5;124m'\u001b[39m\u001b[38;5;124mchunkSize\u001b[39m\u001b[38;5;124m'\u001b[39m: chunk_size,\n\u001b[1;32m     15\u001b[0m            \u001b[38;5;124m'\u001b[39m\u001b[38;5;124moffSet\u001b[39m\u001b[38;5;124m'\u001b[39m: offset}\n\u001b[0;32m---> 17\u001b[0m response \u001b[38;5;241m=\u001b[39m requests\u001b[38;5;241m.\u001b[39mrequest(\u001b[38;5;124m\"\u001b[39m\u001b[38;5;124mGET\u001b[39m\u001b[38;5;124m\"\u001b[39m, reqUrl, data\u001b[38;5;241m=\u001b[39mpayload, files\u001b[38;5;241m=\u001b[39mpost_files, headers\u001b[38;5;241m=\u001b[39mheadersList)\n\u001b[1;32m     19\u001b[0m \u001b[38;5;28mprint\u001b[39m(response\u001b[38;5;241m.\u001b[39mtext)\n",
      "File \u001b[0;32m/opt/anaconda3/lib/python3.11/site-packages/requests/api.py:59\u001b[0m, in \u001b[0;36mrequest\u001b[0;34m(method, url, **kwargs)\u001b[0m\n\u001b[1;32m     55\u001b[0m \u001b[38;5;66;03m# By using the 'with' statement we are sure the session is closed, thus we\u001b[39;00m\n\u001b[1;32m     56\u001b[0m \u001b[38;5;66;03m# avoid leaving sockets open which can trigger a ResourceWarning in some\u001b[39;00m\n\u001b[1;32m     57\u001b[0m \u001b[38;5;66;03m# cases, and look like a memory leak in others.\u001b[39;00m\n\u001b[1;32m     58\u001b[0m \u001b[38;5;28;01mwith\u001b[39;00m sessions\u001b[38;5;241m.\u001b[39mSession() \u001b[38;5;28;01mas\u001b[39;00m session:\n\u001b[0;32m---> 59\u001b[0m     \u001b[38;5;28;01mreturn\u001b[39;00m session\u001b[38;5;241m.\u001b[39mrequest(method\u001b[38;5;241m=\u001b[39mmethod, url\u001b[38;5;241m=\u001b[39murl, \u001b[38;5;241m*\u001b[39m\u001b[38;5;241m*\u001b[39mkwargs)\n",
      "File \u001b[0;32m/opt/anaconda3/lib/python3.11/site-packages/requests/sessions.py:589\u001b[0m, in \u001b[0;36mSession.request\u001b[0;34m(self, method, url, params, data, headers, cookies, files, auth, timeout, allow_redirects, proxies, hooks, stream, verify, cert, json)\u001b[0m\n\u001b[1;32m    584\u001b[0m send_kwargs \u001b[38;5;241m=\u001b[39m {\n\u001b[1;32m    585\u001b[0m     \u001b[38;5;124m\"\u001b[39m\u001b[38;5;124mtimeout\u001b[39m\u001b[38;5;124m\"\u001b[39m: timeout,\n\u001b[1;32m    586\u001b[0m     \u001b[38;5;124m\"\u001b[39m\u001b[38;5;124mallow_redirects\u001b[39m\u001b[38;5;124m\"\u001b[39m: allow_redirects,\n\u001b[1;32m    587\u001b[0m }\n\u001b[1;32m    588\u001b[0m send_kwargs\u001b[38;5;241m.\u001b[39mupdate(settings)\n\u001b[0;32m--> 589\u001b[0m resp \u001b[38;5;241m=\u001b[39m \u001b[38;5;28mself\u001b[39m\u001b[38;5;241m.\u001b[39msend(prep, \u001b[38;5;241m*\u001b[39m\u001b[38;5;241m*\u001b[39msend_kwargs)\n\u001b[1;32m    591\u001b[0m \u001b[38;5;28;01mreturn\u001b[39;00m resp\n",
      "File \u001b[0;32m/opt/anaconda3/lib/python3.11/site-packages/requests/sessions.py:703\u001b[0m, in \u001b[0;36mSession.send\u001b[0;34m(self, request, **kwargs)\u001b[0m\n\u001b[1;32m    700\u001b[0m start \u001b[38;5;241m=\u001b[39m preferred_clock()\n\u001b[1;32m    702\u001b[0m \u001b[38;5;66;03m# Send the request\u001b[39;00m\n\u001b[0;32m--> 703\u001b[0m r \u001b[38;5;241m=\u001b[39m adapter\u001b[38;5;241m.\u001b[39msend(request, \u001b[38;5;241m*\u001b[39m\u001b[38;5;241m*\u001b[39mkwargs)\n\u001b[1;32m    705\u001b[0m \u001b[38;5;66;03m# Total elapsed time of the request (approximately)\u001b[39;00m\n\u001b[1;32m    706\u001b[0m elapsed \u001b[38;5;241m=\u001b[39m preferred_clock() \u001b[38;5;241m-\u001b[39m start\n",
      "File \u001b[0;32m/opt/anaconda3/lib/python3.11/site-packages/requests/adapters.py:519\u001b[0m, in \u001b[0;36mHTTPAdapter.send\u001b[0;34m(self, request, stream, timeout, verify, cert, proxies)\u001b[0m\n\u001b[1;32m    515\u001b[0m     \u001b[38;5;28;01mif\u001b[39;00m \u001b[38;5;28misinstance\u001b[39m(e\u001b[38;5;241m.\u001b[39mreason, _SSLError):\n\u001b[1;32m    516\u001b[0m         \u001b[38;5;66;03m# This branch is for urllib3 v1.22 and later.\u001b[39;00m\n\u001b[1;32m    517\u001b[0m         \u001b[38;5;28;01mraise\u001b[39;00m SSLError(e, request\u001b[38;5;241m=\u001b[39mrequest)\n\u001b[0;32m--> 519\u001b[0m     \u001b[38;5;28;01mraise\u001b[39;00m \u001b[38;5;167;01mConnectionError\u001b[39;00m(e, request\u001b[38;5;241m=\u001b[39mrequest)\n\u001b[1;32m    521\u001b[0m \u001b[38;5;28;01mexcept\u001b[39;00m ClosedPoolError \u001b[38;5;28;01mas\u001b[39;00m e:\n\u001b[1;32m    522\u001b[0m     \u001b[38;5;28;01mraise\u001b[39;00m \u001b[38;5;167;01mConnectionError\u001b[39;00m(e, request\u001b[38;5;241m=\u001b[39mrequest)\n",
      "\u001b[0;31mConnectionError\u001b[0m: HTTPConnectionPool(host='localhost', port=14077): Max retries exceeded with url: /ems/trigger/ (Caused by NewConnectionError('<urllib3.connection.HTTPConnection object at 0x29bdfb1d0>: Failed to establish a new connection: [Errno 61] Connection refused'))"
     ]
    }
   ],
   "source": [
    "reqUrl = \"http://localhost:14077/ems/trigger/\"\n",
    "\n",
    "post_files = {\n",
    "  \"file\": open(file_path, \"rb\"),\n",
    "}\n",
    "headersList = {\"Accept\": \"*/*\",\n",
    "               \"User-Agent\": \"Thunder Client (https://www.thunderclient.com)\",\n",
    "               \"Content-Type\": \"multipart/form-data; boundary=kljmyvW1ndjXaOEAg4vPm6RBUqO6MC5A\"}\n",
    "\n",
    "payload = {'packageName': package_name,\n",
    "           'size': file_size,\n",
    "           'chunkSize': chunk_size,\n",
    "           'offSet': offset}\n",
    "\n",
    "response = requests.request(\"GET\", reqUrl, data=payload, files=post_files, headers=headersList)\n",
    "\n",
    "print(response.text)"
   ]
  }
 ],
 "metadata": {
  "kernelspec": {
   "display_name": "Python 3 (ipykernel)",
   "language": "python",
   "name": "python3"
  },
  "language_info": {
   "codemirror_mode": {
    "name": "ipython",
    "version": 3
   },
   "file_extension": ".py",
   "mimetype": "text/x-python",
   "name": "python",
   "nbconvert_exporter": "python",
   "pygments_lexer": "ipython3",
   "version": "3.11.7"
  }
 },
 "nbformat": 4,
 "nbformat_minor": 5
}
