{
 "cells": [
  {
   "cell_type": "markdown",
   "id": "d4a09091",
   "metadata": {},
   "source": [
    "<h1 align=\"center\"><b>EMS - player Registration</b></h1>"
   ]
  },
  {
   "cell_type": "markdown",
   "id": "e72a1748",
   "metadata": {},
   "source": [
    "<h5>\n",
    "    <b> Packages </b>\n",
    "</h5> "
   ]
  },
  {
   "cell_type": "code",
   "execution_count": 49,
   "id": "59c0feae",
   "metadata": {},
   "outputs": [],
   "source": [
    "# Package used to connect to MySQL Databases\n",
    "import mysql.connector\n",
    "\n",
    "# XML Creation\n",
    "import xml.etree.ElementTree as ET\n",
    "import os\n",
    "\n",
    "# Data Manipulation Packages\n",
    "import pandas as pd\n",
    "import numpy as np\n",
    "import hashlib\n",
    "from datetime import datetime\n",
    "\n",
    "# Package To Ignore Warnings\n",
    "import warnings\n",
    "warnings.filterwarnings(\"ignore\")"
   ]
  },
  {
   "cell_type": "markdown",
   "id": "25552f26",
   "metadata": {},
   "source": [
    "<h5>\n",
    "    <b> Import Data From MySQL</b>\n",
    "</h5> "
   ]
  },
  {
   "cell_type": "code",
   "execution_count": 50,
   "id": "89035d8c",
   "metadata": {},
   "outputs": [
    {
     "ename": "DatabaseError",
     "evalue": "2005 (HY000): Unknown MySQL server host 'cobi-mysql01.betika.private' (8)",
     "output_type": "error",
     "traceback": [
      "\u001b[0;31m---------------------------------------------------------------------------\u001b[0m",
      "\u001b[0;31mMySQLInterfaceError\u001b[0m                       Traceback (most recent call last)",
      "File \u001b[0;32m/opt/anaconda3/lib/python3.11/site-packages/mysql/connector/connection_cext.py:323\u001b[0m, in \u001b[0;36mCMySQLConnection._open_connection\u001b[0;34m(self)\u001b[0m\n\u001b[1;32m    322\u001b[0m \u001b[38;5;28;01mtry\u001b[39;00m:\n\u001b[0;32m--> 323\u001b[0m     \u001b[38;5;28mself\u001b[39m\u001b[38;5;241m.\u001b[39m_cmysql\u001b[38;5;241m.\u001b[39mconnect(\u001b[38;5;241m*\u001b[39m\u001b[38;5;241m*\u001b[39mcnx_kwargs)\n\u001b[1;32m    324\u001b[0m     \u001b[38;5;28mself\u001b[39m\u001b[38;5;241m.\u001b[39m_cmysql\u001b[38;5;241m.\u001b[39mconverter_str_fallback \u001b[38;5;241m=\u001b[39m \u001b[38;5;28mself\u001b[39m\u001b[38;5;241m.\u001b[39m_converter_str_fallback\n",
      "\u001b[0;31mMySQLInterfaceError\u001b[0m: Unknown MySQL server host 'cobi-mysql01.betika.private' (8)",
      "\nThe above exception was the direct cause of the following exception:\n",
      "\u001b[0;31mDatabaseError\u001b[0m                             Traceback (most recent call last)",
      "Cell \u001b[0;32mIn[50], line 5\u001b[0m\n\u001b[1;32m      2\u001b[0m file \u001b[38;5;241m=\u001b[39m \u001b[38;5;28mopen\u001b[39m(\u001b[38;5;124m'\u001b[39m\u001b[38;5;124m/Users/katlegomatebane/Documents/Connect/Connect.txt\u001b[39m\u001b[38;5;124m'\u001b[39m, \u001b[38;5;124m'\u001b[39m\u001b[38;5;124mr\u001b[39m\u001b[38;5;124m'\u001b[39m)\n\u001b[1;32m      3\u001b[0m text \u001b[38;5;241m=\u001b[39m file\u001b[38;5;241m.\u001b[39mreadlines()\n\u001b[0;32m----> 5\u001b[0m cobi_betika \u001b[38;5;241m=\u001b[39m mysql\u001b[38;5;241m.\u001b[39mconnector\u001b[38;5;241m.\u001b[39mconnect(host\u001b[38;5;241m=\u001b[39mtext[\u001b[38;5;241m0\u001b[39m]\u001b[38;5;241m.\u001b[39mstrip()\n\u001b[1;32m      6\u001b[0m                                       ,database\u001b[38;5;241m=\u001b[39mtext[\u001b[38;5;241m7\u001b[39m]\u001b[38;5;241m.\u001b[39mstrip()\n\u001b[1;32m      7\u001b[0m                                       ,user\u001b[38;5;241m=\u001b[39mtext[\u001b[38;5;241m5\u001b[39m]\u001b[38;5;241m.\u001b[39mstrip()\n\u001b[1;32m      8\u001b[0m                                       ,password\u001b[38;5;241m=\u001b[39mtext[\u001b[38;5;241m6\u001b[39m]\u001b[38;5;241m.\u001b[39mstrip()\n\u001b[1;32m      9\u001b[0m                                       ,port\u001b[38;5;241m=\u001b[39mtext[\u001b[38;5;241m4\u001b[39m]\u001b[38;5;241m.\u001b[39mstrip())\n\u001b[1;32m     11\u001b[0m \u001b[38;5;66;03m# Connect to MySQL database\u001b[39;00m\n\u001b[1;32m     12\u001b[0m \u001b[38;5;28;01mtry\u001b[39;00m:\n",
      "File \u001b[0;32m/opt/anaconda3/lib/python3.11/site-packages/mysql/connector/pooling.py:322\u001b[0m, in \u001b[0;36mconnect\u001b[0;34m(*args, **kwargs)\u001b[0m\n\u001b[1;32m    319\u001b[0m         \u001b[38;5;28;01mraise\u001b[39;00m \u001b[38;5;167;01mImportError\u001b[39;00m(ERROR_NO_CEXT)\n\u001b[1;32m    321\u001b[0m \u001b[38;5;28;01mif\u001b[39;00m CMySQLConnection \u001b[38;5;129;01mand\u001b[39;00m \u001b[38;5;129;01mnot\u001b[39;00m use_pure:\n\u001b[0;32m--> 322\u001b[0m     \u001b[38;5;28;01mreturn\u001b[39;00m CMySQLConnection(\u001b[38;5;241m*\u001b[39margs, \u001b[38;5;241m*\u001b[39m\u001b[38;5;241m*\u001b[39mkwargs)\n\u001b[1;32m    323\u001b[0m \u001b[38;5;28;01mreturn\u001b[39;00m MySQLConnection(\u001b[38;5;241m*\u001b[39margs, \u001b[38;5;241m*\u001b[39m\u001b[38;5;241m*\u001b[39mkwargs)\n",
      "File \u001b[0;32m/opt/anaconda3/lib/python3.11/site-packages/mysql/connector/connection_cext.py:140\u001b[0m, in \u001b[0;36mCMySQLConnection.__init__\u001b[0;34m(self, **kwargs)\u001b[0m\n\u001b[1;32m    138\u001b[0m \u001b[38;5;28;01mif\u001b[39;00m kwargs:\n\u001b[1;32m    139\u001b[0m     \u001b[38;5;28;01mtry\u001b[39;00m:\n\u001b[0;32m--> 140\u001b[0m         \u001b[38;5;28mself\u001b[39m\u001b[38;5;241m.\u001b[39mconnect(\u001b[38;5;241m*\u001b[39m\u001b[38;5;241m*\u001b[39mkwargs)\n\u001b[1;32m    141\u001b[0m     \u001b[38;5;28;01mexcept\u001b[39;00m \u001b[38;5;167;01mException\u001b[39;00m:\n\u001b[1;32m    142\u001b[0m         \u001b[38;5;28mself\u001b[39m\u001b[38;5;241m.\u001b[39mclose()\n",
      "File \u001b[0;32m/opt/anaconda3/lib/python3.11/site-packages/mysql/connector/abstracts.py:1363\u001b[0m, in \u001b[0;36mMySQLConnectionAbstract.connect\u001b[0;34m(self, **kwargs)\u001b[0m\n\u001b[1;32m   1360\u001b[0m     \u001b[38;5;28mself\u001b[39m\u001b[38;5;241m.\u001b[39mconfig(\u001b[38;5;241m*\u001b[39m\u001b[38;5;241m*\u001b[39mkwargs)\n\u001b[1;32m   1362\u001b[0m \u001b[38;5;28mself\u001b[39m\u001b[38;5;241m.\u001b[39mdisconnect()\n\u001b[0;32m-> 1363\u001b[0m \u001b[38;5;28mself\u001b[39m\u001b[38;5;241m.\u001b[39m_open_connection()\n\u001b[1;32m   1365\u001b[0m charset, collation \u001b[38;5;241m=\u001b[39m (\n\u001b[1;32m   1366\u001b[0m     kwargs\u001b[38;5;241m.\u001b[39mpop(\u001b[38;5;124m\"\u001b[39m\u001b[38;5;124mcharset\u001b[39m\u001b[38;5;124m\"\u001b[39m, \u001b[38;5;28;01mNone\u001b[39;00m),\n\u001b[1;32m   1367\u001b[0m     kwargs\u001b[38;5;241m.\u001b[39mpop(\u001b[38;5;124m\"\u001b[39m\u001b[38;5;124mcollation\u001b[39m\u001b[38;5;124m\"\u001b[39m, \u001b[38;5;28;01mNone\u001b[39;00m),\n\u001b[1;32m   1368\u001b[0m )\n\u001b[1;32m   1369\u001b[0m \u001b[38;5;28;01mif\u001b[39;00m charset \u001b[38;5;129;01mor\u001b[39;00m collation:\n",
      "File \u001b[0;32m/opt/anaconda3/lib/python3.11/site-packages/mysql/connector/connection_cext.py:328\u001b[0m, in \u001b[0;36mCMySQLConnection._open_connection\u001b[0;34m(self)\u001b[0m\n\u001b[1;32m    326\u001b[0m         \u001b[38;5;28mself\u001b[39m\u001b[38;5;241m.\u001b[39mconverter\u001b[38;5;241m.\u001b[39mstr_fallback \u001b[38;5;241m=\u001b[39m \u001b[38;5;28mself\u001b[39m\u001b[38;5;241m.\u001b[39m_converter_str_fallback\n\u001b[1;32m    327\u001b[0m \u001b[38;5;28;01mexcept\u001b[39;00m MySQLInterfaceError \u001b[38;5;28;01mas\u001b[39;00m err:\n\u001b[0;32m--> 328\u001b[0m     \u001b[38;5;28;01mraise\u001b[39;00m get_mysql_exception(\n\u001b[1;32m    329\u001b[0m         msg\u001b[38;5;241m=\u001b[39merr\u001b[38;5;241m.\u001b[39mmsg, errno\u001b[38;5;241m=\u001b[39merr\u001b[38;5;241m.\u001b[39merrno, sqlstate\u001b[38;5;241m=\u001b[39merr\u001b[38;5;241m.\u001b[39msqlstate\n\u001b[1;32m    330\u001b[0m     ) \u001b[38;5;28;01mfrom\u001b[39;00m \u001b[38;5;21;01merr\u001b[39;00m\n\u001b[1;32m    332\u001b[0m \u001b[38;5;28mself\u001b[39m\u001b[38;5;241m.\u001b[39m_do_handshake()\n",
      "\u001b[0;31mDatabaseError\u001b[0m: 2005 (HY000): Unknown MySQL server host 'cobi-mysql01.betika.private' (8)"
     ]
    }
   ],
   "source": [
    "# Code To Connect MySQL\n",
    "file = open('/Users/katlegomatebane/Documents/Connect/Connect.txt', 'r')\n",
    "text = file.readlines()\n",
    "\n",
    "cobi_betika = mysql.connector.connect(host=text[0].strip()\n",
    "                                      ,database=text[7].strip()\n",
    "                                      ,user=text[5].strip()\n",
    "                                      ,password=text[6].strip()\n",
    "                                      ,port=text[4].strip())\n",
    "\n",
    "# Connect to MySQL database\n",
    "try:\n",
    "    with cobi_betika.cursor() as cursor:\n",
    "        df = pd.read_sql(\"SELECT a.playerID\\\n",
    "                                ,a.transDateTime\\\n",
    "                                ,b.msisdn AS phoneNumber\\\n",
    "                                ,left(b.msisdn,3) AS phoneCountry\\\n",
    "                            FROM (SELECT profile_id AS playerID\\\n",
    "                                        ,registration_date AS transDateTime\\\n",
    "                                FROM betika_bi_gh.dim_first_last_gh\\\n",
    "                                WHERE DATE(registration_date) = DATE(CURDATE()- INTERVAL 1 DAY)\\\n",
    "                                ) AS a\\\n",
    "\\\n",
    "                            LEFT JOIN betika_bi_gh.profile AS b\\\n",
    "                            ON a.playerID = b.profile_id\\\n",
    "\\\n",
    "                            LIMIT 1;\"\n",
    "                         ,cobi_betika)\n",
    "        \n",
    "finally:\n",
    "    cobi_betika.close()"
   ]
  },
  {
   "cell_type": "markdown",
   "id": "4d26f3e0",
   "metadata": {},
   "source": [
    "<h5>\n",
    "    <b> Create File Variables </b>\n",
    "</h5> "
   ]
  },
  {
   "cell_type": "code",
   "execution_count": null,
   "id": "f3fb5bfd",
   "metadata": {},
   "outputs": [],
   "source": [
    "report_path = '/Users/katlegomatebane/Documents/UG - EMS Integration/Reports/player Registration/'\n",
    "name        = '?xml version=\"1.0\" encoding=\"UTF-8\" standalone=\"yes\"?'\n",
    "date        = df['transDateTime'].min().strftime('%Y%m%d')\n",
    "counter     = 1\n",
    "title       = 'RRI_playerRegistration' "
   ]
  },
  {
   "cell_type": "markdown",
   "id": "cc4c549c",
   "metadata": {},
   "source": [
    "<h5>\n",
    "    <b> Create Serialisation </b>\n",
    "</h5> "
   ]
  },
  {
   "cell_type": "code",
   "execution_count": null,
   "id": "123db81f",
   "metadata": {},
   "outputs": [],
   "source": [
    "for file in os.listdir(report_path):\n",
    "        if \"xml\" in file:\n",
    "            counter += 1\n",
    "\n",
    "serial = f\"{counter:03}\""
   ]
  },
  {
   "cell_type": "code",
   "execution_count": null,
   "id": "6efa7e6b",
   "metadata": {},
   "outputs": [
    {
     "data": {
      "text/html": [
       "<div>\n",
       "<style scoped>\n",
       "    .dataframe tbody tr th:only-of-type {\n",
       "        vertical-align: middle;\n",
       "    }\n",
       "\n",
       "    .dataframe tbody tr th {\n",
       "        vertical-align: top;\n",
       "    }\n",
       "\n",
       "    .dataframe thead th {\n",
       "        text-align: right;\n",
       "    }\n",
       "</style>\n",
       "<table border=\"1\" class=\"dataframe\">\n",
       "  <thead>\n",
       "    <tr style=\"text-align: right;\">\n",
       "      <th></th>\n",
       "      <th>playerID</th>\n",
       "      <th>transDateTime</th>\n",
       "      <th>phoneNumber</th>\n",
       "      <th>phoneCountry</th>\n",
       "    </tr>\n",
       "  </thead>\n",
       "  <tbody>\n",
       "    <tr>\n",
       "      <th>0</th>\n",
       "      <td>3279566</td>\n",
       "      <td>2024-06-13</td>\n",
       "      <td>233539082158</td>\n",
       "      <td>233</td>\n",
       "    </tr>\n",
       "  </tbody>\n",
       "</table>\n",
       "</div>"
      ],
      "text/plain": [
       "   playerID transDateTime   phoneNumber phoneCountry\n",
       "0   3279566    2024-06-13  233539082158          233"
      ]
     },
     "execution_count": 28,
     "metadata": {},
     "output_type": "execute_result"
    }
   ],
   "source": [
    "df"
   ]
  },
  {
   "cell_type": "markdown",
   "id": "d5e183c5",
   "metadata": {},
   "source": [
    "<h5>\n",
    "    <b> Create Data Variables </b>\n",
    "</h5> "
   ]
  },
  {
   "cell_type": "code",
   "execution_count": null,
   "id": "e099aa59",
   "metadata": {},
   "outputs": [],
   "source": [
    "df['opener']            = '<?xml version=\"1.0\" encoding=\"UTF-8\" standalone=\"yes\"?>'\n",
    "df['xmlns:rri']         = 'urn:GSA:RRI:1.0:GSA:rri'\n",
    "df['xmlns:xsi']         = 'http://www.w3.org/2001/XMLSchema-instance'\n",
    "df['version']           = '1.0'\n",
    "df['partionid']         = '1'\n",
    "df['OperatorId']        = 'Betika'\n",
    "df['periodType']        = 'RRI_day'\n",
    "df['reportType']        = 'RRI_playerRegistration'\n",
    "df['SeqNumber']         = '1'\n",
    "df['dateTime']          = datetime.now().strftime('%Y-%m-%dT%M:%S.%T')\n",
    "\n",
    "# PlayerRegistration\n",
    "df['brandID']           = 'Betika'\n",
    "\n",
    "# Playerinfo\n",
    "df['givenNames']        = np.nan\n",
    "df['familyNames']       = np.nan\n",
    "df['Nationality']       = np.nan\n",
    "df['birthDate']         = np.nan\n",
    "df['genderType']        = np.nan\n",
    "\n",
    "\n",
    "# PlayerStatusinfo\n",
    "df['playerStatus']      = 'RRI_active'\n",
    "df['operatorStatus']    = 'ACTV'\n",
    "\n",
    "# playerPhoneList\n",
    "df['phoneType']         = 'RRI_mobile'\n",
    "\n",
    "#playerIdentification\n",
    "df['idType']           = np.nan\n",
    "df['countryCode']      = 'UG'\n",
    "df['subDivision']      = np.nan\n",
    "df['idNumber']         = np.nan\n",
    "df['issueDate']        = np.nan\n",
    "df['expirationDate']   = np.nan\n",
    "\n",
    "# playerExclusionList\n",
    "df['exclusionSource']  = 'RRI_player'\n",
    "df['startDate']        = np.nan\n",
    "df['endDate']          = np.nan\n",
    "df['fromTime']         = np.nan\n",
    "df['toTime']           = np.nan\n",
    "df['autoContinuance']  = np.nan\n",
    "df['removalDateTime']  = np.nan"
   ]
  },
  {
   "cell_type": "markdown",
   "id": "322a47d0",
   "metadata": {},
   "source": [
    "<h5>\n",
    "    <b> Prepare Data To Be Hashed By Game ID </b>\n",
    "</h5> "
   ]
  },
  {
   "cell_type": "code",
   "execution_count": null,
   "id": "4bde1566",
   "metadata": {},
   "outputs": [],
   "source": [
    "# Create New dataframe that will be used to group data by game id\n",
    "df_Hash = df\n",
    "\n",
    "# Place all the row's data into one column\n",
    "df_Hash['data'] = str(df_Hash).encode()\n",
    "\n",
    "# convert data column to string \n",
    "df_Hash['data'] = df_Hash['data'].astype(str)\n",
    "\n",
    "# \n",
    "df_Hash['data'] = df_Hash.groupby(['transDateTime'])['data'].transform(lambda x: ', '.join(x))\n",
    "\n",
    "# \n",
    "df_Hash = df_Hash.groupby('transDateTime').first().reset_index()\n",
    "\n",
    "# Keep only the data field & game id\n",
    "df_Hash = df_Hash[['transDateTime','data']]"
   ]
  },
  {
   "cell_type": "code",
   "execution_count": null,
   "id": "99f11a86",
   "metadata": {},
   "outputs": [],
   "source": [
    "def hash_data(data):\n",
    "    \n",
    "    # Encode the transaction data as a string\n",
    "    data_str = str(data).encode()\n",
    "\n",
    "    # Create a hash variable and use it to generate a hash of the transaction data\n",
    "    hashing = hashlib.sha256()\n",
    "    hashing.update(data_str)\n",
    "    data_hash = hashing.hexdigest()\n",
    "\n",
    "    return data_hash"
   ]
  },
  {
   "cell_type": "code",
   "execution_count": null,
   "id": "64ea18b9",
   "metadata": {},
   "outputs": [],
   "source": [
    "df_Hash['reportId'] = df_Hash['data'].apply(hash_data)"
   ]
  },
  {
   "cell_type": "markdown",
   "id": "8da4b686",
   "metadata": {},
   "source": [
    "<h5>\n",
    "    <b> Map Column Names </b>\n",
    "</h5> "
   ]
  },
  {
   "cell_type": "code",
   "execution_count": null,
   "id": "25f7ec01",
   "metadata": {},
   "outputs": [],
   "source": [
    "opener                  = df['opener'].astype(str).tolist()\n",
    "rri                     = df['xmlns:rri'].astype(str).tolist()\n",
    "xsi                     = df['xmlns:xsi'].astype(str).tolist()\n",
    "report_id               = df_Hash['reportId'].astype(str).tolist()\n",
    "Operator_Id             = df['OperatorId'].astype(str).tolist()\n",
    "period_Start            = df['transDateTime'].apply(lambda x: x.strftime('%Y-%m-%d')).tolist()\n",
    "version                 = df['version'].astype(str).tolist()\n",
    "partion_id              = df['partionid'].astype(str).tolist()\n",
    "seq_Number              = df['SeqNumber'].astype(str).tolist()\n",
    "period_Type             = df['periodType'].astype(str).tolist()\n",
    "date_Time               = df['dateTime'].astype(str).tolist()\n",
    "report_Type             = df['reportType'].astype(str).tolist()\n",
    "brand_Id                = df['brandID'].astype(str).tolist()\n",
    "\n",
    "# PlayerRegistration\n",
    "brand_id                = df['brandID'].astype(str).tolist()\n",
    "trans_Date_Time         = df['transDateTime'].apply(lambda x: x.strftime('%Y-%m-%d')).tolist()\n",
    "\n",
    "# player\n",
    "player_id               = df['playerID'].astype(str).tolist()\n",
    "\n",
    "# Playerinfo\n",
    "given_Names             = df['givenNames'].astype(str).tolist()\n",
    "family_Names            = df['familyNames'].astype(str).tolist()\n",
    "Nationality             = df['Nationality'].astype(str).tolist()\n",
    "birth_Date              = df['birthDate'].astype(str).tolist()\n",
    "gender_Type             = df['genderType'].astype(str).tolist()\n",
    "from_Date_Time          = df['transDateTime'].apply(lambda x: x.strftime('%Y-%m-%d')).tolist()\n",
    "\n",
    "\n",
    "# PlayerStatusinfo\n",
    "player_Status           = df['playerStatus'].astype(str).tolist()\n",
    "operator_Status         = df['operatorStatus'].astype(str).tolist()\n",
    "verified_Date_Time      = df['transDateTime'].apply(lambda x: x.strftime('%Y-%m-%d')).tolist()\n",
    "\n",
    "# playerPhoneList\n",
    "phone_Type              = df['phoneType'].astype(str).tolist()\n",
    "phone_Country           = df['phoneCountry'].astype(str).tolist()\n",
    "phone_Number            = df['phoneNumber'].astype(str).tolist()\n",
    "verified_Date_Time      = df['transDateTime'].apply(lambda x: x.strftime('%Y-%m-%d')).tolist()\n",
    "\n",
    "#playerIdentification\n",
    "id_Type                 = df['idType'].astype(str).tolist()\n",
    "country_Code            = df['countryCode'].astype(str).tolist()\n",
    "sub_Division            = df['subDivision'].astype(str).tolist()\n",
    "id_Number               = df['idNumber'].astype(str).tolist()\n",
    "issue_Date              = df['issueDate'].astype(str).tolist()\n",
    "expiration_Date         = df['expirationDate'].apply(lambda x: x.strftime('%Y-%m-%d')).tolist()\n",
    "\n",
    "# playerExclusionList\n",
    "exclusion_Source        = df['exclusionSource'].astype(str).tolist()\n",
    "start_Date              = df['startDate'].astype(str).tolist()\n",
    "end_Date                = df['endDate'].astype(str).tolist()\n",
    "from_Time               = df['fromTime'].astype(str).tolist()\n",
    "to_Time                 = df['toTime'].astype(str).tolist()\n",
    "auto_Continuance        = df['autoContinuance'].astype(str).tolist()\n",
    "removal_Date_Time       = df['removalDateTime'].apply(lambda x: x.strftime('%Y-%m-%d')).tolist()\n"
   ]
  },
  {
   "cell_type": "markdown",
   "id": "9d5da963",
   "metadata": {},
   "source": [
    "<h5>\n",
    "    <b> Function To Make XML Readable </b>\n",
    "</h5> "
   ]
  },
  {
   "cell_type": "code",
   "execution_count": null,
   "id": "ac30f6ed",
   "metadata": {},
   "outputs": [],
   "source": [
    "def prettify(element, indent='  '):\n",
    "    queue = [(0, element)]\n",
    "    while queue:\n",
    "        level, element = queue.pop(0)\n",
    "        children = [(level + 1, child) for child in list(element)]\n",
    "        if children:\n",
    "            element.text = '\\n' + indent * (level+1)\n",
    "        if queue: \n",
    "            element.tail = '\\n' + indent * queue[0][0]\n",
    "        else:\n",
    "            element.tail = '\\n' + indent * (level-1) \n",
    "        queue[0:0] = children"
   ]
  },
  {
   "cell_type": "markdown",
   "id": "d9ded908",
   "metadata": {},
   "source": [
    "<h5>\n",
    "    <b> Create XML File </b>\n",
    "</h5> "
   ]
  },
  {
   "cell_type": "code",
   "execution_count": null,
   "id": "d6e42b96",
   "metadata": {},
   "outputs": [],
   "source": [
    "xml_doc = ET.Element(name)\n",
    "gaming_Report = ET.SubElement(xml_doc, 'rri:gamingReport'\n",
    "                            ,xmlnsrri=rri[0]\n",
    "                            ,xmlnsxsi=xsi[0]\n",
    "                            ,version=version[0]\n",
    "                            ,operatiorId=Operator_Id[0]\n",
    "                            ,partionId=partion_id[0]\n",
    "                            ,periodType=period_Type[0]\n",
    "                            ,periodStart=period_Start[0]\n",
    "                            ,reportType=report_Type[0]\n",
    "                            ,reportid=report_id[0]\n",
    "                            ,seqNumber=seq_Number[0]\n",
    "                            ,dateTime=date_Time[0])\n",
    "playerRegistration = ET.SubElement(gaming_Report, 'playerRegistration' \n",
    "                             ,brandId=brand_Id[0]\n",
    "                             ,transDateTime=trans_Date_Time[0])\n",
    "ET.SubElement(playerRegistration,'player'\n",
    "              ,playerId=player_id[0])\n",
    "ET.SubElement(playerRegistration,'playerInfo'\n",
    "             ,givenNames=given_Names[0]\n",
    "             ,familyNames=family_Names[0]\n",
    "             ,nationality=Nationality[0]\n",
    "             ,birthDate=birth_Date[0]\n",
    "             ,genderType=gender_Type[0]\n",
    "             ,fromDateTime=date_Time[0])\n",
    "playerStatusInfo = ET.SubElement(playerRegistration, 'playerStatusInfo' \n",
    "                                ,playerStatus=player_Status[0]\n",
    "                                ,operatorStatus=operator_Status[0]\n",
    "                                ,fromDateTime=from_Date_Time[0]\n",
    "                                ,verifiedDateTime=verified_Date_Time[0])\n",
    "playerPhoneList = ET.SubElement(playerRegistration, 'playerPhoneList')\n",
    "ET.SubElement(playerPhoneList,'playerPhone'\n",
    "             ,phoneType=phone_Type[0]\n",
    "             ,phoneCountry=phone_Country[0]\n",
    "             ,phoneNumber=phone_Number[0]\n",
    "             ,verifiedDateTime=verified_Date_Time[0])\n",
    "playerIdentificationList = ET.SubElement(playerRegistration, 'playerIdentificationList')\n",
    "ET.SubElement(playerIdentificationList,'playerIdentification'\n",
    "             ,idType=id_Type[0]\n",
    "             ,countryCode=country_Code[0]\n",
    "             ,subDivision=sub_Division[0]\n",
    "             ,idNumber=id_Number[0]\n",
    "             ,issueDate=issue_Date[0]\n",
    "             ,expirationDate=expiration_Date[0])\n",
    "playerExclusion = ET.SubElement(playerRegistration, 'playerExclusionList')\n",
    "ET.SubElement(playerExclusion,'playerExclusion'\n",
    "             ,exclusionSource=exclusion_Source[0]\n",
    "             ,startDate=start_Date[0]\n",
    "             ,endDate=end_Date[0]\n",
    "             ,fromTime=from_Time[0]\n",
    "             ,toTime=to_Time[0]\n",
    "             ,autoContinuance=auto_Continuance[0]\n",
    "             ,removalDateTime=removal_Date_Time[0])\n",
    "\n",
    "prettify(xml_doc)"
   ]
  },
  {
   "cell_type": "markdown",
   "id": "eb659571",
   "metadata": {},
   "source": [
    "<h5>\n",
    "    <b> Export XML File To Folder </b>\n",
    "</h5> "
   ]
  },
  {
   "cell_type": "code",
   "execution_count": null,
   "id": "6acdd9d8",
   "metadata": {},
   "outputs": [],
   "source": [
    "tree = ET.ElementTree(xml_doc)\n",
    "tree.write(report_path+title+'_'+serial+'_'+date+'.xml',encoding=\"utf-8\")"
   ]
  }
 ],
 "metadata": {
  "kernelspec": {
   "display_name": "Python 3 (ipykernel)",
   "language": "python",
   "name": "python3"
  },
  "language_info": {
   "codemirror_mode": {
    "name": "ipython",
    "version": 3
   },
   "file_extension": ".py",
   "mimetype": "text/x-python",
   "name": "python",
   "nbconvert_exporter": "python",
   "pygments_lexer": "ipython3",
   "version": "3.11.7"
  }
 },
 "nbformat": 4,
 "nbformat_minor": 5
}
