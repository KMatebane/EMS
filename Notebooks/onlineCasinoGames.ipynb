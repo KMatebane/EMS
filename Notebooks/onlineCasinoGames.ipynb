{
 "cells": [
  {
   "cell_type": "markdown",
   "id": "d4a09091",
   "metadata": {},
   "source": [
    "<h1 align=\"center\"><b>UG SP EMSC</b></h1>"
   ]
  },
  {
   "cell_type": "markdown",
   "id": "e72a1748",
   "metadata": {},
   "source": [
    "<h5>\n",
    "    <b> Packages </b>\n",
    "</h5> "
   ]
  },
  {
   "cell_type": "code",
   "execution_count": 1,
   "id": "59c0feae",
   "metadata": {},
   "outputs": [],
   "source": [
    "# Package used to connect to MySQL Databases\n",
    "import mysql.connector\n",
    "\n",
    "# XML Creation\n",
    "import xml.etree.ElementTree as ET\n",
    "import os\n",
    "\n",
    "#Upload XML\n",
    "import requests\n",
    "import shutil\n",
    "\n",
    "# Data Manipulation Packages\n",
    "import pandas as pd\n",
    "import numpy as np\n",
    "import hashlib\n",
    "from datetime import datetime\n",
    "\n",
    "# Package To Ignore Warnings\n",
    "import warnings\n",
    "warnings.filterwarnings(\"ignore\")"
   ]
  },
  {
   "cell_type": "code",
   "execution_count": 2,
   "id": "1383dd03",
   "metadata": {},
   "outputs": [],
   "source": [
    "Root = os.path.normpath(os.getcwd() + os.sep + os.pardir)\n",
    "\n",
    "file = open(Root + '/Connect/Connect.txt', 'r')\n",
    "text = file.readlines()"
   ]
  },
  {
   "cell_type": "markdown",
   "id": "25552f26",
   "metadata": {},
   "source": [
    "<h5>\n",
    "    <b> Import Data From MySQL</b>\n",
    "</h5> "
   ]
  },
  {
   "cell_type": "code",
   "execution_count": 3,
   "id": "5f0cb89e",
   "metadata": {},
   "outputs": [],
   "source": [
    "# Code To Connect MySQL\n",
    "cobi_betika = mysql.connector.connect(host=text[0].strip()\n",
    "                                      ,database=text[7].strip()\n",
    "                                      ,user=text[5].strip()\n",
    "                                      ,password=text[6].strip()\n",
    "                                      ,port=text[4].strip())\n",
    "\n",
    "# Connect to MySQL database\n",
    "try:\n",
    "    with cobi_betika.cursor() as cursor:\n",
    "        df = pd.read_sql(\"SELECT summary_date\\\n",
    "                                ,COUNT(DISTINCT profile_id) AS playerCnt\\\n",
    "                                ,COUNT(DISTINCT (CASE WHEN free_bet_qty > 0 THEN profile_id END)) as freePlayerCnt\\\n",
    "                                ,game_name AS gameName\\\n",
    "                                ,SUM(total_bet_qty) AS gamesPlayedCnt\\\n",
    "                                ,SUM(total_bet_amt) AS stakeAmt\\\n",
    "                                ,SUM(total_payout) AS baseWinAmt\\\n",
    "                                ,SUM(withheld_tax_amt) AS taxPlayerIncomeAmt\\\n",
    "                                ,SUM(cancelled_bet_amt) AS refundAmt\\\n",
    "                                ,SUM(GGR) AS revenueAmt\\\n",
    "                            FROM betika_bi_ken.f_spribe_kpi\\\n",
    "                            WHERE DATE(summary_date) = DATE(CURDATE()- INTERVAL 1 DAY)\\\n",
    "                            GROUP BY summary_date\\\n",
    "                                    ,game_name;\"\n",
    "                         ,cobi_betika)\n",
    "        \n",
    "finally:\n",
    "    cobi_betika.close()"
   ]
  },
  {
   "cell_type": "markdown",
   "id": "4d26f3e0",
   "metadata": {},
   "source": [
    "<h5>\n",
    "    <b> Create File Variables </b>\n",
    "</h5> "
   ]
  },
  {
   "cell_type": "code",
   "execution_count": 4,
   "id": "0298c990",
   "metadata": {},
   "outputs": [],
   "source": [
    "Month = df['summary_date'][0].strftime('%m') + '_' + df['summary_date'][0].strftime('%B') + '/'\n",
    "Year  = df['summary_date'][0].strftime('%Y') + '/'\n",
    "Day   = df['summary_date'][0].strftime('%Y_%m_%d')"
   ]
  },
  {
   "cell_type": "code",
   "execution_count": 5,
   "id": "f3fb5bfd",
   "metadata": {},
   "outputs": [],
   "source": [
    "name        = '?xml version=\"1.0\" encoding=\"UTF-8\" standalone=\"yes\"?'\n",
    "date        = df['summary_date'].min().strftime('%Y%m%d')\n",
    "counter     = 1\n",
    "title       = 'RRI_gameSummary' \n",
    "report_path = Root +'/'+ 'Reports/onlineCasinoGames/'+Year + Month +date"
   ]
  },
  {
   "cell_type": "markdown",
   "id": "cc4c549c",
   "metadata": {},
   "source": [
    "<h5>\n",
    "    <b> Create Serialisation </b>\n",
    "</h5> "
   ]
  },
  {
   "cell_type": "code",
   "execution_count": 6,
   "id": "993cf402",
   "metadata": {},
   "outputs": [],
   "source": [
    "if not os.path.exists(report_path):\n",
    "        os.makedirs(report_path)"
   ]
  },
  {
   "cell_type": "code",
   "execution_count": 7,
   "id": "123db81f",
   "metadata": {},
   "outputs": [],
   "source": [
    "for file in os.listdir(report_path):\n",
    "        if \"xml\" in file:\n",
    "            counter += 1\n",
    "\n",
    "serial = f\"{counter:03}\""
   ]
  },
  {
   "cell_type": "markdown",
   "id": "d5e183c5",
   "metadata": {},
   "source": [
    "<h5>\n",
    "    <b> Create Data Variables </b>\n",
    "</h5> "
   ]
  },
  {
   "cell_type": "code",
   "execution_count": 8,
   "id": "b1c556e0",
   "metadata": {},
   "outputs": [],
   "source": [
    "df['opener']            = '<?xml version=\"1.0\" encoding=\"UTF-8\" standalone=\"yes\"?>'\n",
    "df['xmlns:rri']         = 'urn:GSA:RRI:1.0:GSA:rri'\n",
    "df['xmlns:xsi']         = 'http://www.w3.org/2001/XMLSchema-instance'\n",
    "df['version']           = '1.0'\n",
    "df['partionid']         = '1'\n",
    "df['SeqNumber']         = '1'\n",
    "df['OperatorId']        = 'Betika'\n",
    "df['periodType']        = 'RRI_day'\n",
    "df['reportType']        = 'RRI_gameSummary'\n",
    "df['dateTime']          = datetime.now().strftime('%Y-%m-%dT%M:%S.%T')\n",
    "df['brandID']           = 'Betika'\n",
    "df['game_id']           = np.nan\n",
    "df['gameType']          = 'RRI_other'\n",
    "df['gameCategory']      = 'RRI_casinoGame'\n",
    "df['gameVariant']       = 'RRI_none'\n",
    "df['jackpotContribAmt'] = np.nan\n",
    "df['jackpotWinAmt']     = np.nan\n",
    "df['freeStakeAmt']      = np.nan\n",
    "df['currencyCode']      = 'UGX'\n",
    "\n",
    "df['transType_Wager']   = 'RRI_wager'\n",
    "df['transType_Win']     = 'RRI_baseGameWin'\n",
    "df['transClass']        = 'RRI_online'\n",
    "df['fundsType']         = 'RRI_realMoney'"
   ]
  },
  {
   "cell_type": "markdown",
   "id": "322a47d0",
   "metadata": {},
   "source": [
    "<h5>\n",
    "    <b> Prepare Data To Be Hashed By Game ID </b>\n",
    "</h5> "
   ]
  },
  {
   "cell_type": "code",
   "execution_count": 9,
   "id": "4bde1566",
   "metadata": {},
   "outputs": [],
   "source": [
    "# Create New dataframe that will be used to group data by game id\n",
    "df_Hash = df\n",
    "\n",
    "# Place all the row's data into one column\n",
    "df_Hash['data'] = str(df_Hash).encode()\n",
    "\n",
    "# convert data column to string \n",
    "df_Hash['data'] = df_Hash['data'].astype(str)\n",
    "\n",
    "# \n",
    "df_Hash['data'] = df_Hash.groupby(['gameName'])['data'].transform(lambda x: ', '.join(x))\n",
    "\n",
    "# \n",
    "df_Hash = df_Hash.groupby('gameName').first().reset_index()\n",
    "\n",
    "# Keep only the data field & game id\n",
    "df_Hash = df_Hash[['gameName','data']]"
   ]
  },
  {
   "cell_type": "code",
   "execution_count": 10,
   "id": "99f11a86",
   "metadata": {},
   "outputs": [],
   "source": [
    "def hash_data(data):\n",
    "    \n",
    "    # Encode the transaction data as a string\n",
    "    data_str = str(data).encode()\n",
    "\n",
    "    # Create a hash variable and use it to generate a hash of the transaction data\n",
    "    hashing = hashlib.sha256()\n",
    "    hashing.update(data_str)\n",
    "    data_hash = hashing.hexdigest()\n",
    "\n",
    "    return data_hash"
   ]
  },
  {
   "cell_type": "code",
   "execution_count": 11,
   "id": "64ea18b9",
   "metadata": {},
   "outputs": [],
   "source": [
    "df_Hash['reportId'] = df_Hash['data'].apply(hash_data)"
   ]
  },
  {
   "cell_type": "markdown",
   "id": "8da4b686",
   "metadata": {},
   "source": [
    "<h5>\n",
    "    <b> Map Column Names </b>\n",
    "</h5> "
   ]
  },
  {
   "cell_type": "code",
   "execution_count": 12,
   "id": "25f7ec01",
   "metadata": {},
   "outputs": [],
   "source": [
    "opener                  = df['opener'].astype(str).tolist()\n",
    "rri                     = df['xmlns:rri'].astype(str).tolist()\n",
    "xsi                     = df['xmlns:xsi'].astype(str).tolist()\n",
    "report_id               = df_Hash['reportId'].astype(str).tolist()\n",
    "Operator_Id             = df['OperatorId'].astype(str).tolist()\n",
    "period_Start            = df['summary_date'].apply(lambda x: x.strftime('%Y-%m-%d')).tolist()\n",
    "version                 = df['version'].astype(str).tolist()\n",
    "partion_id              = df['partionid'].astype(str).tolist()\n",
    "seq_Number              = df['SeqNumber'].astype(str).tolist()\n",
    "period_Type             = df['periodType'].astype(str).tolist()\n",
    "date_Time               = df['dateTime'].astype(str).tolist()\n",
    "report_Type             = df['reportType'].astype(str).tolist()\n",
    "brand_Id                = df['brandID'].astype(str).tolist()\n",
    "game_Id                 = df['game_id'].astype(str).tolist()\n",
    "game_Name               = df['gameName'].astype(str).tolist()\n",
    "game_Category           = df['gameCategory'].astype(str).tolist()\n",
    "game_Type               = df['gameType'].astype(str).tolist()\n",
    "game_Variant            = df['gameVariant'].astype(str).tolist()\n",
    "stake_Amt               = df['stakeAmt'].astype(str).tolist()\n",
    "free_Stake_Amt          = df['freeStakeAmt'].astype(str).tolist()\n",
    "jackpot_Contrib_Amt     = df['jackpotContribAmt'].astype(str).tolist()\n",
    "jackpot_Win_Amt         = df['jackpotWinAmt'].astype(str).tolist()\n",
    "games_Played_Cnt        = df['gamesPlayedCnt'].astype(str).tolist()\n",
    "currency_Code           = df['currencyCode'].astype(str).tolist()\n",
    "player_Cnt              = df['playerCnt'].astype(str).tolist()\n",
    "free_Player_Cnt         = df['freePlayerCnt'].astype(str).tolist()\n",
    "refund_Amt              = df['refundAmt'].astype(str).tolist()\n",
    "wager_Amt               = df['stakeAmt'].astype(str).tolist()\n",
    "base_Win_Amt            = df['baseWinAmt'].astype(str).tolist()\n",
    "revenue_Amt             = df['revenueAmt'].astype(str).tolist()\n",
    "tax_Player_Income_Amt   = df['taxPlayerIncomeAmt'].astype(str).tolist()\n",
    "funds_Type              = df['fundsType'].astype(str).tolist()\n",
    "trans_Class             = df['transClass'].astype(str).tolist()\n",
    "trans_type_Wager        = df['transType_Wager'].astype(str).tolist()\n",
    "trans_type_Win          = df['transType_Win'].astype(str).tolist()\n",
    "funds_Type              = df['fundsType'].astype(str).tolist()\n",
    "trans_Amt_Wager         = df['stakeAmt'].astype(str).tolist()\n",
    "trans_Amt_Win           = df['baseWinAmt'].astype(str).tolist()"
   ]
  },
  {
   "cell_type": "markdown",
   "id": "9d5da963",
   "metadata": {},
   "source": [
    "<h5>\n",
    "    <b> Function To Make XML Readable </b>\n",
    "</h5> "
   ]
  },
  {
   "cell_type": "code",
   "execution_count": 13,
   "id": "ac30f6ed",
   "metadata": {},
   "outputs": [],
   "source": [
    "def prettify(element, indent='  '):\n",
    "    queue = [(0, element)]\n",
    "    while queue:\n",
    "        level, element = queue.pop(0)\n",
    "        children = [(level + 1, child) for child in list(element)]\n",
    "        if children:\n",
    "            element.text = '\\n' + indent * (level+1)\n",
    "        if queue: \n",
    "            element.tail = '\\n' + indent * queue[0][0]\n",
    "        else:\n",
    "            element.tail = '\\n' + indent * (level-1) \n",
    "        queue[0:0] = children"
   ]
  },
  {
   "cell_type": "markdown",
   "id": "d9ded908",
   "metadata": {},
   "source": [
    "<h5>\n",
    "    <b> Create XML File </b>\n",
    "</h5> "
   ]
  },
  {
   "cell_type": "code",
   "execution_count": 14,
   "id": "d6e42b96",
   "metadata": {},
   "outputs": [],
   "source": [
    "xml_doc = ET.Element(name)\n",
    "gaming_Report = ET.SubElement(xml_doc, 'rri:gamingReport'\n",
    "                            ,xmlnsrri=rri[0]\n",
    "                            ,xmlnsxsi=xsi[0]\n",
    "                            ,version=version[0]\n",
    "                            ,operatiorId=Operator_Id[0]\n",
    "                            ,partionId=partion_id[0]\n",
    "                            ,periodType=period_Type[0]\n",
    "                            ,periodStart=period_Start[0]\n",
    "                            ,reportType=report_Type[0]\n",
    "                            ,reportid=report_id[0]\n",
    "                            ,seqNumber=seq_Number[0]\n",
    "                            ,dateTime=date_Time[0])\n",
    "game_summary = ET.SubElement(gaming_Report, 'gameSummary' \n",
    "                             ,periodType=period_Type[0]\n",
    "                             ,periodStart=period_Start[0]\n",
    "                             ,brandId=brand_Id[0])\n",
    "ET.SubElement(game_summary,'game'\n",
    "              ,gameId=game_Id[0]\n",
    "              ,gameName=game_Name[0]\n",
    "              ,gameCategory=game_Category[0]\n",
    "              ,gameType=game_Type[0]\n",
    "              ,gameVariant=game_Variant[0])\n",
    "game_sd = ET.SubElement(game_summary, 'gameSummaryDetail')\n",
    "ET.SubElement(game_sd,'casinoGameSummary'\n",
    "             ,stakeAmt=stake_Amt[0]\n",
    "             ,freeStakeAmt=free_Stake_Amt[0]\n",
    "             ,refundAmt=refund_Amt[0]\n",
    "             ,baseWinAmt=base_Win_Amt[0]\n",
    "             ,jackpotContribAmt=jackpot_Contrib_Amt[0]\n",
    "             ,jackpotWinAmt=jackpot_Win_Amt[0]\n",
    "             ,gamesPlayedCnt=games_Played_Cnt[0]\n",
    "             ,currencyCode=currency_Code[0])\n",
    "game_ml = ET.SubElement(game_summary, 'gameMovementList')\n",
    "ET.SubElement(game_ml,'gameMovement'\n",
    "             ,transClass=trans_Class[0]\n",
    "             ,transType=trans_type_Wager[0]\n",
    "             ,fundsType=funds_Type[0]\n",
    "             ,transAmt=trans_Amt_Wager[0]\n",
    "             ,currencyCode=currency_Code[0])\n",
    "game_ml = ET.SubElement(game_summary, 'gameMovementList')\n",
    "ET.SubElement(game_ml,'gameMovement'\n",
    "             ,transClass=trans_Class[0]\n",
    "             ,transType=trans_type_Win[0]\n",
    "             ,fundsType=funds_Type[0]\n",
    "             ,transAmt=trans_Amt_Win[0]\n",
    "             ,currencyCode=currency_Code[0])\n",
    "\n",
    "prettify(xml_doc)"
   ]
  },
  {
   "cell_type": "markdown",
   "id": "eb659571",
   "metadata": {},
   "source": [
    "<h5>\n",
    "    <b> Export XML File To Folder </b>\n",
    "</h5> "
   ]
  },
  {
   "cell_type": "code",
   "execution_count": 15,
   "id": "6acdd9d8",
   "metadata": {},
   "outputs": [],
   "source": [
    "file_path = report_path+'/'+title+'_'+serial+'_'+date+'.xml'\n",
    "zip_name = report_path+'/'+title+'_'+serial+'_'+date\n",
    "zip_path = report_path+'/'+title+'_'+serial+'_'+date+'.zip'\n",
    "tree = ET.ElementTree(xml_doc)\n",
    "tree.write(file_path,encoding=\"utf-8\")"
   ]
  },
  {
   "cell_type": "code",
   "execution_count": 16,
   "id": "008c73f6",
   "metadata": {},
   "outputs": [
    {
     "data": {
      "text/plain": [
       "'/Users/katlegomatebane/Documents/Github/EMS/Reports/onlineCasinoGames/2024/06_June/20240625/RRI_gameSummary_001_20240625.zip'"
      ]
     },
     "execution_count": 16,
     "metadata": {},
     "output_type": "execute_result"
    }
   ],
   "source": [
    "shutil.make_archive(zip_name, 'zip', report_path)"
   ]
  },
  {
   "cell_type": "markdown",
   "id": "af9a633b",
   "metadata": {},
   "source": [
    "<h5>\n",
    "    <b> Send Data To API </b>\n",
    "</h5> "
   ]
  },
  {
   "cell_type": "code",
   "execution_count": 17,
   "id": "926ebba1",
   "metadata": {},
   "outputs": [],
   "source": [
    "package_name = title+'_'+serial+'_'+date+'.zip'\n",
    "file_size = os.path.getsize(file_path)\n",
    "chunk_size = os.path.getsize(zip_path)\n",
    "offset = 0"
   ]
  },
  {
   "cell_type": "code",
   "execution_count": 18,
   "id": "e6881a7a",
   "metadata": {},
   "outputs": [
    {
     "name": "stdout",
     "output_type": "stream",
     "text": [
      "{\"message\":\"File uploaded successfully\"}\n",
      "\n"
     ]
    }
   ],
   "source": [
    "reqUrl = \"http://localhost:14077/ems/trigger/\"\n",
    "\n",
    "post_files = {\n",
    "  \"file\": open(file_path, \"rb\"),\n",
    "}\n",
    "\n",
    "payload = {'packageName': package_name,\n",
    "           'size': file_size,\n",
    "           'chunkSize': chunk_size,\n",
    "           'offSet': offset}\n",
    "\n",
    "response = requests.request(\"POST\", reqUrl, data=payload, files=post_files)\n",
    "\n",
    "print(response.text)"
   ]
  }
 ],
 "metadata": {
  "kernelspec": {
   "display_name": "Python 3 (ipykernel)",
   "language": "python",
   "name": "python3"
  },
  "language_info": {
   "codemirror_mode": {
    "name": "ipython",
    "version": 3
   },
   "file_extension": ".py",
   "mimetype": "text/x-python",
   "name": "python",
   "nbconvert_exporter": "python",
   "pygments_lexer": "ipython3",
   "version": "3.11.7"
  }
 },
 "nbformat": 4,
 "nbformat_minor": 5
}
